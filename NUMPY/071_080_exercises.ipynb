{
  "nbformat": 4,
  "nbformat_minor": 0,
  "metadata": {
    "colab": {
      "name": "071-080_exercises.ipynb",
      "provenance": [],
      "collapsed_sections": [],
      "include_colab_link": true
    },
    "kernelspec": {
      "name": "python3",
      "display_name": "Python 3"
    }
  },
  "cells": [
    {
      "cell_type": "markdown",
      "metadata": {
        "id": "view-in-github",
        "colab_type": "text"
      },
      "source": [
        "<a href=\"https://colab.research.google.com/github/MG2702/data-science-bootcamp/blob/main/NUMPY/071_080_exercises.ipynb\" target=\"_parent\"><img src=\"https://colab.research.google.com/assets/colab-badge.svg\" alt=\"Open In Colab\"/></a>"
      ]
    },
    {
      "cell_type": "markdown",
      "metadata": {
        "id": "WLEgCW5F1hho"
      },
      "source": [
        "## Numpy\n",
        "\n",
        "### Spis treści:\n",
        "* [Import biblioteki](#0)\n",
        "* [Ćwiczenie 71](#1)\n",
        "* [Ćwiczenie 72](#2)\n",
        "* [Ćwiczenie 73](#3)\n",
        "* [Ćwiczenie 74](#4)\n",
        "* [Ćwiczenie 75](#5)\n",
        "* [Ćwiczenie 76](#6)\n",
        "* [Ćwiczenie 77](#7)\n",
        "* [Ćwiczenie 78](#8)\n",
        "* [Ćwiczenie 79](#9)\n",
        "* [Ćwiczenie 80](#10)"
      ]
    },
    {
      "cell_type": "markdown",
      "metadata": {
        "id": "zeLOLmTj1kBM"
      },
      "source": [
        "### <a name='0'></a>Import biblioteki"
      ]
    },
    {
      "cell_type": "code",
      "metadata": {
        "id": "HXMB7SMe1Wnz",
        "colab": {
          "base_uri": "https://localhost:8080/",
          "height": 35
        },
        "outputId": "c1abf086-fe1d-413e-ad69-402ccc1598cb"
      },
      "source": [
        "import numpy as np\n",
        "\n",
        "np.random.seed(42)\n",
        "np.__version__"
      ],
      "execution_count": 1,
      "outputs": [
        {
          "output_type": "execute_result",
          "data": {
            "application/vnd.google.colaboratory.intrinsic+json": {
              "type": "string"
            },
            "text/plain": [
              "'1.19.5'"
            ]
          },
          "metadata": {},
          "execution_count": 1
        }
      ]
    },
    {
      "cell_type": "markdown",
      "metadata": {
        "id": "cyc70pMe1oCg"
      },
      "source": [
        "### <a name='1'></a> Ćwiczenie 71\n",
        "Podana jest poniższa tablica $A$:\n",
        "\n",
        "```\n",
        "A = np.array([['id', 'price'],\n",
        "              ['001', 14.99],\n",
        "              ['002', 4.99],\n",
        "              ['003', 7.99],\n",
        "              ['004', 2.49],\n",
        "              ['005', 1.49]])\n",
        "```\n",
        "Od drugiego wiersza tablicy $A$ przestaw losowo wiersze w tablicy.\n",
        "\n",
        "__Wskazówka:__ Użyj funkcji _np.random.shuffle()_.\n"
      ]
    },
    {
      "cell_type": "code",
      "metadata": {
        "id": "RFIhGhiJtLW5",
        "colab": {
          "base_uri": "https://localhost:8080/"
        },
        "outputId": "b82a2d12-18d2-444e-911b-7f421b607a6e"
      },
      "source": [
        "A = np.array([['id', 'price'],\n",
        "              ['001', 14.99],\n",
        "              ['002', 4.99],\n",
        "              ['003', 7.99],\n",
        "              ['004', 2.49],\n",
        "              ['005', 1.49]])\n",
        "np.random.shuffle(A[1:])\n",
        "A"
      ],
      "execution_count": 3,
      "outputs": [
        {
          "output_type": "execute_result",
          "data": {
            "text/plain": [
              "array([['id', 'price'],\n",
              "       ['002', '4.99'],\n",
              "       ['005', '1.49'],\n",
              "       ['003', '7.99'],\n",
              "       ['001', '14.99'],\n",
              "       ['004', '2.49']], dtype='<U5')"
            ]
          },
          "metadata": {},
          "execution_count": 3
        }
      ]
    },
    {
      "cell_type": "markdown",
      "metadata": {
        "id": "J9pY1rtr1sC0"
      },
      "source": [
        "### <a name='2'></a> Ćwiczenie 72\n",
        "Podana jest poniższa tablica $A$:\n",
        "\n",
        "```\n",
        "A = np.array([0.2, 0.15, 0.1, 0.3, 0.2, 0.05])\n",
        "```\n",
        "Zwróć tablicę indeksów, które posortują tablicę $A$ rosnąco.\n",
        "\n",
        "__Oczekiwny wynik:__\n",
        "\n",
        "\n",
        "```\n",
        "array([5, 2, 1, 0, 4, 3])\n",
        "```\n",
        "__Wskazówka:__ Użyj funkcji _np.argsort()_.\n",
        "\n"
      ]
    },
    {
      "cell_type": "code",
      "metadata": {
        "id": "JXEkxNh_wAwB",
        "colab": {
          "base_uri": "https://localhost:8080/"
        },
        "outputId": "0f08ae3c-aad7-4812-e7c5-aef7c218fa87"
      },
      "source": [
        "A = np.array([0.2, 0.15, 0.1, 0.3, 0.2, 0.05])\n",
        "np.argsort(A)"
      ],
      "execution_count": 5,
      "outputs": [
        {
          "output_type": "execute_result",
          "data": {
            "text/plain": [
              "array([5, 2, 1, 0, 4, 3])"
            ]
          },
          "metadata": {},
          "execution_count": 5
        }
      ]
    },
    {
      "cell_type": "markdown",
      "metadata": {
        "id": "XQLYT2m11wVG"
      },
      "source": [
        "### <a name='3'></a> Ćwiczenie 73\n",
        "Podana jest poniższa tablica $A$:\n",
        "\n",
        "```\n",
        "A = np.random.randn(10, 8)\n",
        "```\n",
        "\n",
        "Zaokrąglij wartości tej tablicy do trzeciego miejsca po przecinku.\n",
        "\n",
        "__Wskazówka:__ Użyj funkcji _np.round()_."
      ]
    },
    {
      "cell_type": "code",
      "metadata": {
        "id": "oh4E35mU0ikP",
        "colab": {
          "base_uri": "https://localhost:8080/"
        },
        "outputId": "cb8f3ec1-7b83-4ca6-d144-5d8b383a1c61"
      },
      "source": [
        "A = np.random.randn(10, 8)\n",
        "np.round(A,decimals=3)"
      ],
      "execution_count": 8,
      "outputs": [
        {
          "output_type": "execute_result",
          "data": {
            "text/plain": [
              "array([[ 0.063,  0.502, -0.147,  0.181,  0.965, -1.065,  0.109,  0.106],\n",
              "       [ 0.921, -0.227,  0.653,  1.103, -1.85 ,  1.169, -0.985, -1.094],\n",
              "       [-2.879, -0.803, -0.005, -0.383, -0.463, -1.112,  0.867,  0.958],\n",
              "       [ 0.418, -1.887,  2.273,  0.147,  0.54 , -1.498, -0.011,  0.413],\n",
              "       [-0.141,  0.872,  1.3  , -1.344,  0.85 ,  0.394, -0.005, -1.571],\n",
              "       [ 1.48 ,  0.397, -1.783, -0.243,  0.327,  0.507, -0.128,  0.342],\n",
              "       [ 2.119,  1.547, -0.95 , -0.597, -0.111, -1.749, -1.341, -1.622],\n",
              "       [-1.148,  1.39 , -0.855, -1.027,  0.883, -0.449,  0.419, -0.728],\n",
              "       [-1.802,  0.468, -1.551, -0.51 , -0.733,  0.195, -0.556, -0.128],\n",
              "       [-1.561,  2.   , -1.2  ,  1.201,  0.15 ,  0.141,  0.354, -1.88 ]])"
            ]
          },
          "metadata": {},
          "execution_count": 8
        }
      ]
    },
    {
      "cell_type": "markdown",
      "metadata": {
        "id": "4xTKSUzg10MK"
      },
      "source": [
        "### <a name='4'></a> Ćwiczenie 74\n",
        "Wyznacz pierwiastki wielomianu:\n",
        "* $W(x) = 4x^2 + 5x + 1$\n",
        "\n",
        "\n",
        "__Wskazówka:__ Użyj funkcji _np.roots()_ oraz _np.polyval()_."
      ]
    },
    {
      "cell_type": "code",
      "metadata": {
        "id": "RjwHkYO86qeM",
        "colab": {
          "base_uri": "https://localhost:8080/"
        },
        "outputId": "6a826bf1-0ab3-4694-9d61-079822dd9d8f"
      },
      "source": [
        "A = np.array([4, 5, 1])\n",
        "np.roots(A)\n",
        "X = np.polyval([4,5,1], -1)\n",
        "Y = np.polyval([4,5,1], -0.25)\n",
        "print(X, Y)"
      ],
      "execution_count": 18,
      "outputs": [
        {
          "output_type": "stream",
          "name": "stdout",
          "text": [
            "0 0.0\n"
          ]
        }
      ]
    },
    {
      "cell_type": "markdown",
      "metadata": {
        "id": "YDKyTjl59GcT"
      },
      "source": [
        "Dokonaj sprawdzenia."
      ]
    },
    {
      "cell_type": "code",
      "metadata": {
        "id": "8ryP41w78rvf"
      },
      "source": [
        "# tutaj wpisz rozwiązanie"
      ],
      "execution_count": null,
      "outputs": []
    },
    {
      "cell_type": "markdown",
      "metadata": {
        "id": "o3HKIKlP15Ro"
      },
      "source": [
        "### <a name='5'></a> Ćwiczenie 75\n",
        "Wyznacz pierwiastki wielomianów:\n",
        "* $Q(x) = 2x^3 + 4x^2 -5x + 1$\n",
        "* $R(x) = 2x^3 -5x + 1$\n",
        "\n",
        "__Wskazówka:__ Użyj funkcji _np.roots()_."
      ]
    },
    {
      "cell_type": "code",
      "metadata": {
        "id": "Kxjx96O57wTY",
        "colab": {
          "base_uri": "https://localhost:8080/"
        },
        "outputId": "773c137b-39f5-4f6d-a6c3-1278f348b14b"
      },
      "source": [
        "Q = np.array([2,4,-5,1])\n",
        "R = np.array([2,-5,1])\n",
        "print(np.roots(Q))\n",
        "print(np.roots(R))"
      ],
      "execution_count": 19,
      "outputs": [
        {
          "output_type": "stream",
          "name": "stdout",
          "text": [
            "[-2.91610583  0.65388685  0.26221898]\n",
            "[2.28077641 0.21922359]\n"
          ]
        }
      ]
    },
    {
      "cell_type": "markdown",
      "metadata": {
        "id": "PunXd_Ey16so"
      },
      "source": [
        "### <a name='6'></a> Ćwiczenie 76\n",
        "Podane są wielomiany:\n",
        "\n",
        "* $W(x) = 4x^2 + 5x + 1$\n",
        "* $Q(x) = 2x^3 + 4x^2 -5x + 1$\n"
      ]
    },
    {
      "cell_type": "code",
      "metadata": {
        "id": "D-XbUU9Nln5y"
      },
      "source": [
        "W = np.array([4, 5, 1])\n",
        "Q = np.array([2, 4, -5, 1])"
      ],
      "execution_count": 20,
      "outputs": []
    },
    {
      "cell_type": "markdown",
      "metadata": {
        "id": "vYiT4ikklqaQ"
      },
      "source": [
        "Wykonaj działania:\n",
        "* $W(x) + Q(x)$"
      ]
    },
    {
      "cell_type": "code",
      "metadata": {
        "id": "9JKvun7C9raH",
        "colab": {
          "base_uri": "https://localhost:8080/"
        },
        "outputId": "d5783a77-c838-4f51-a233-9d9fcc5166e4"
      },
      "source": [
        "np.polyadd(W,Q)"
      ],
      "execution_count": 21,
      "outputs": [
        {
          "output_type": "execute_result",
          "data": {
            "text/plain": [
              "array([2, 8, 0, 2])"
            ]
          },
          "metadata": {},
          "execution_count": 21
        }
      ]
    },
    {
      "cell_type": "markdown",
      "metadata": {
        "id": "f6qXMj30lhrn"
      },
      "source": [
        "* $W(x) - Q(x)$\n"
      ]
    },
    {
      "cell_type": "code",
      "metadata": {
        "id": "HFlLC37f94Lr",
        "colab": {
          "base_uri": "https://localhost:8080/"
        },
        "outputId": "c0766798-6582-412c-9351-3de31ebdc8df"
      },
      "source": [
        "np.polysub(W,Q)"
      ],
      "execution_count": 22,
      "outputs": [
        {
          "output_type": "execute_result",
          "data": {
            "text/plain": [
              "array([-2,  0, 10,  0])"
            ]
          },
          "metadata": {},
          "execution_count": 22
        }
      ]
    },
    {
      "cell_type": "markdown",
      "metadata": {
        "id": "o8xnmuwfljHU"
      },
      "source": [
        "* $W(x) * Q(x)$\n"
      ]
    },
    {
      "cell_type": "code",
      "metadata": {
        "id": "Z4B28oMe-p8J",
        "colab": {
          "base_uri": "https://localhost:8080/"
        },
        "outputId": "b8e1c72a-ce74-445b-a403-9c8ee95f527a"
      },
      "source": [
        "np.polymul(W,Q)"
      ],
      "execution_count": 23,
      "outputs": [
        {
          "output_type": "execute_result",
          "data": {
            "text/plain": [
              "array([  8,  26,   2, -17,   0,   1])"
            ]
          },
          "metadata": {},
          "execution_count": 23
        }
      ]
    },
    {
      "cell_type": "markdown",
      "metadata": {
        "id": "BIHBf0PllkXe"
      },
      "source": [
        "* $W(x) + 2Q(x)$"
      ]
    },
    {
      "cell_type": "code",
      "metadata": {
        "id": "UbaoDx6E-90V",
        "colab": {
          "base_uri": "https://localhost:8080/"
        },
        "outputId": "418bc5f3-3f84-49b7-de79-65cb3e366607"
      },
      "source": [
        "np.polyadd(W, 2*Q)"
      ],
      "execution_count": 24,
      "outputs": [
        {
          "output_type": "execute_result",
          "data": {
            "text/plain": [
              "array([ 4, 12, -5,  3])"
            ]
          },
          "metadata": {},
          "execution_count": 24
        }
      ]
    },
    {
      "cell_type": "markdown",
      "metadata": {
        "id": "hOhqDRz618Tx"
      },
      "source": [
        "### <a name='7'></a> Ćwiczenie 77\n",
        "Podana jest poniższa tablica:\n",
        "\n",
        "```\n",
        "A = np.array([[-4, 3, 0, 1, -5],\n",
        "              [6, -4, -2, 1, 3]])\n",
        "```\n",
        "\n",
        "Użyj funkcji znaku (_sign function_) dla tablicy $A$. Dla przypomnienia funkcja działa nastpująco: dla wartości ujemnych zwraca -1, dla zera wartość zero, dla wartości dodatnich 1.\n",
        "\n",
        "__Oczekiwany wynik:__\n",
        "\n",
        "\n",
        "```\n",
        "array([[-1,  1,  0,  1, -1],\n",
        "       [ 1, -1, -1,  1,  1]])\n",
        "```\n",
        "__Wskazówka:__ Użyj funkcji _np.sign()_.\n"
      ]
    },
    {
      "cell_type": "code",
      "metadata": {
        "id": "bo-L_-_1AF0o",
        "colab": {
          "base_uri": "https://localhost:8080/"
        },
        "outputId": "dc8cbf64-edc2-453f-a7cd-0a54394c1738"
      },
      "source": [
        "A = np.array([[-4, 3, 0, 1, -5],\n",
        "              [6, -4, -2, 1, 3]])\n",
        "np.sign(A)"
      ],
      "execution_count": 25,
      "outputs": [
        {
          "output_type": "execute_result",
          "data": {
            "text/plain": [
              "array([[-1,  1,  0,  1, -1],\n",
              "       [ 1, -1, -1,  1,  1]])"
            ]
          },
          "metadata": {},
          "execution_count": 25
        }
      ]
    },
    {
      "cell_type": "markdown",
      "metadata": {
        "id": "TXUd_4631-gw"
      },
      "source": [
        "### <a name='8'></a> Ćwiczenie 78\n",
        "Wykorzystując funkcję _np.arange()_ wygeneruj poniższą tablicę:\n",
        "\n",
        "\n",
        "```\n",
        "array(['2021-01-01', '2021-01-02', '2021-01-03', '2021-01-04',\n",
        "       '2021-01-05', '2021-01-06', '2021-01-07', '2021-01-08',\n",
        "       '2021-01-09', '2021-01-10', '2021-01-11', '2021-01-12',\n",
        "       '2021-01-13', '2021-01-14', '2021-01-15', '2021-01-16',\n",
        "       '2021-01-17', '2021-01-18', '2021-01-19', '2021-01-20',\n",
        "       '2021-01-21', '2021-01-22', '2021-01-23', '2021-01-24',\n",
        "       '2021-01-25', '2021-01-26', '2021-01-27', '2021-01-28',\n",
        "       '2021-01-29', '2021-01-30', '2021-01-31'], dtype='datetime64[D]')\n",
        "```\n",
        "\n"
      ]
    },
    {
      "cell_type": "code",
      "metadata": {
        "id": "oAdYOzbJDFmv",
        "colab": {
          "base_uri": "https://localhost:8080/"
        },
        "outputId": "439d3e9e-34f2-494e-af9b-5e8d8a11d7ff"
      },
      "source": [
        "np.arange(start='2021-01-01', stop='2021-02-01', dtype='datetime64[D]')"
      ],
      "execution_count": 27,
      "outputs": [
        {
          "output_type": "execute_result",
          "data": {
            "text/plain": [
              "array(['2021-01-01', '2021-01-02', '2021-01-03', '2021-01-04',\n",
              "       '2021-01-05', '2021-01-06', '2021-01-07', '2021-01-08',\n",
              "       '2021-01-09', '2021-01-10', '2021-01-11', '2021-01-12',\n",
              "       '2021-01-13', '2021-01-14', '2021-01-15', '2021-01-16',\n",
              "       '2021-01-17', '2021-01-18', '2021-01-19', '2021-01-20',\n",
              "       '2021-01-21', '2021-01-22', '2021-01-23', '2021-01-24',\n",
              "       '2021-01-25', '2021-01-26', '2021-01-27', '2021-01-28',\n",
              "       '2021-01-29', '2021-01-30', '2021-01-31'], dtype='datetime64[D]')"
            ]
          },
          "metadata": {},
          "execution_count": 27
        }
      ]
    },
    {
      "cell_type": "markdown",
      "metadata": {
        "id": "tgI6xEn-2AQo"
      },
      "source": [
        "\n",
        "### <a name='9'></a> Ćwiczenie 79\n",
        "\n",
        "Wykorzystując funkcję _np.arange()_ wygeneruj poniższą tablicę:\n",
        "\n",
        "\n",
        "\n",
        "```\n",
        "array([['2021-01', '2021-02', '2021-03'],\n",
        "       ['2021-04', '2021-05', '2021-06'],\n",
        "       ['2021-07', '2021-08', '2021-09'],\n",
        "       ['2021-10', '2021-11', '2021-12']], dtype='datetime64[M]')\n",
        "```\n",
        "\n"
      ]
    },
    {
      "cell_type": "code",
      "metadata": {
        "id": "oJRlRIThDehG",
        "colab": {
          "base_uri": "https://localhost:8080/"
        },
        "outputId": "89ff5c2f-1c30-46ec-d115-214e19c0f0f2"
      },
      "source": [
        "A = np.arange(start='2021-01', stop='2022-01', dtype='datetime64[M]')\n",
        "A.reshape(4,-1)"
      ],
      "execution_count": 29,
      "outputs": [
        {
          "output_type": "execute_result",
          "data": {
            "text/plain": [
              "array([['2021-01', '2021-02', '2021-03'],\n",
              "       ['2021-04', '2021-05', '2021-06'],\n",
              "       ['2021-07', '2021-08', '2021-09'],\n",
              "       ['2021-10', '2021-11', '2021-12']], dtype='datetime64[M]')"
            ]
          },
          "metadata": {},
          "execution_count": 29
        }
      ]
    },
    {
      "cell_type": "markdown",
      "metadata": {
        "id": "wxhpf-uq2B1I"
      },
      "source": [
        "### <a name='10'></a> Ćwiczenie 80\n",
        "\n",
        "Wykorzystując funkcję _np.datetime64()_ wygeneruj dzisiejszą datę (datę w chwili robienia ćwiczenia)."
      ]
    },
    {
      "cell_type": "code",
      "metadata": {
        "id": "YFc0KW6URsuc",
        "colab": {
          "base_uri": "https://localhost:8080/"
        },
        "outputId": "e5c49faf-a2e6-44a1-f237-6a50210a64bd"
      },
      "source": [
        "np.datetime64('today')"
      ],
      "execution_count": 30,
      "outputs": [
        {
          "output_type": "execute_result",
          "data": {
            "text/plain": [
              "numpy.datetime64('2021-11-09')"
            ]
          },
          "metadata": {},
          "execution_count": 30
        }
      ]
    },
    {
      "cell_type": "code",
      "metadata": {
        "id": "cyvZUsRFsdtO"
      },
      "source": [
        ""
      ],
      "execution_count": null,
      "outputs": []
    }
  ]
}
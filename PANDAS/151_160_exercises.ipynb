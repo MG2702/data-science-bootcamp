{
  "nbformat": 4,
  "nbformat_minor": 0,
  "metadata": {
    "colab": {
      "name": "151-160_exercises.ipynb",
      "provenance": [],
      "collapsed_sections": [],
      "include_colab_link": true
    },
    "kernelspec": {
      "name": "python3",
      "display_name": "Python 3"
    }
  },
  "cells": [
    {
      "cell_type": "markdown",
      "metadata": {
        "id": "view-in-github",
        "colab_type": "text"
      },
      "source": [
        "<a href=\"https://colab.research.google.com/github/MG2702/data-science-bootcamp/blob/main/PANDAS/151_160_exercises.ipynb\" target=\"_parent\"><img src=\"https://colab.research.google.com/assets/colab-badge.svg\" alt=\"Open In Colab\"/></a>"
      ]
    },
    {
      "cell_type": "markdown",
      "metadata": {
        "id": "WLEgCW5F1hho"
      },
      "source": [
        "## Pandas\n",
        "\n",
        "### Spis treści:\n",
        "* [Import biblioteki](#0)\n",
        "* [Ćwiczenie 151](#1)\n",
        "* [Ćwiczenie 152](#2)\n",
        "* [Ćwiczenie 153](#3)\n",
        "* [Ćwiczenie 154](#4)\n",
        "* [Ćwiczenie 155](#5)\n",
        "* [Ćwiczenie 156](#6)\n",
        "* [Ćwiczenie 157](#7)\n",
        "* [Ćwiczenie 158](#8)\n",
        "* [Ćwiczenie 159](#9)\n",
        "* [Ćwiczenie 160](#10)"
      ]
    },
    {
      "cell_type": "markdown",
      "metadata": {
        "id": "zeLOLmTj1kBM"
      },
      "source": [
        "### <a name='0'></a>Import biblioteki"
      ]
    },
    {
      "cell_type": "code",
      "metadata": {
        "id": "HXMB7SMe1Wnz",
        "colab": {
          "base_uri": "https://localhost:8080/",
          "height": 35
        },
        "outputId": "6b0b9330-cf41-4e69-bd1c-df82768ae109"
      },
      "source": [
        "import numpy as np\n",
        "import pandas as pd\n",
        "\n",
        "np.random.seed(42)\n",
        "np.__version__"
      ],
      "execution_count": 1,
      "outputs": [
        {
          "output_type": "execute_result",
          "data": {
            "application/vnd.google.colaboratory.intrinsic+json": {
              "type": "string"
            },
            "text/plain": [
              "'1.19.5'"
            ]
          },
          "metadata": {},
          "execution_count": 1
        }
      ]
    },
    {
      "cell_type": "markdown",
      "metadata": {
        "id": "cyc70pMe1oCg"
      },
      "source": [
        "### <a name='1'></a> Ćwiczenie 151\n",
        "Podany jest poniższy obiekt _DataFrame:_\n",
        "\n",
        "```\n",
        "df = pd.DataFrame(np.random.rand(10, 4), columns=list('ABCD'))\n",
        "```\n",
        "\n"
      ]
    },
    {
      "cell_type": "code",
      "metadata": {
        "id": "bWjQeELjwg2x",
        "colab": {
          "base_uri": "https://localhost:8080/",
          "height": 359
        },
        "outputId": "9646f475-6e4c-4721-d169-f4f7e0deb4a3"
      },
      "source": [
        "df = pd.DataFrame(np.random.rand(10, 4), columns=list('ABCD'))\n",
        "df"
      ],
      "execution_count": 18,
      "outputs": [
        {
          "output_type": "execute_result",
          "data": {
            "text/html": [
              "<div>\n",
              "<style scoped>\n",
              "    .dataframe tbody tr th:only-of-type {\n",
              "        vertical-align: middle;\n",
              "    }\n",
              "\n",
              "    .dataframe tbody tr th {\n",
              "        vertical-align: top;\n",
              "    }\n",
              "\n",
              "    .dataframe thead th {\n",
              "        text-align: right;\n",
              "    }\n",
              "</style>\n",
              "<table border=\"1\" class=\"dataframe\">\n",
              "  <thead>\n",
              "    <tr style=\"text-align: right;\">\n",
              "      <th></th>\n",
              "      <th>A</th>\n",
              "      <th>B</th>\n",
              "      <th>C</th>\n",
              "      <th>D</th>\n",
              "    </tr>\n",
              "  </thead>\n",
              "  <tbody>\n",
              "    <tr>\n",
              "      <th>0</th>\n",
              "      <td>0.122038</td>\n",
              "      <td>0.495177</td>\n",
              "      <td>0.034389</td>\n",
              "      <td>0.909320</td>\n",
              "    </tr>\n",
              "    <tr>\n",
              "      <th>1</th>\n",
              "      <td>0.258780</td>\n",
              "      <td>0.662522</td>\n",
              "      <td>0.311711</td>\n",
              "      <td>0.520068</td>\n",
              "    </tr>\n",
              "    <tr>\n",
              "      <th>2</th>\n",
              "      <td>0.546710</td>\n",
              "      <td>0.184854</td>\n",
              "      <td>0.969585</td>\n",
              "      <td>0.775133</td>\n",
              "    </tr>\n",
              "    <tr>\n",
              "      <th>3</th>\n",
              "      <td>0.939499</td>\n",
              "      <td>0.894827</td>\n",
              "      <td>0.597900</td>\n",
              "      <td>0.921874</td>\n",
              "    </tr>\n",
              "    <tr>\n",
              "      <th>4</th>\n",
              "      <td>0.088493</td>\n",
              "      <td>0.195983</td>\n",
              "      <td>0.045227</td>\n",
              "      <td>0.325330</td>\n",
              "    </tr>\n",
              "    <tr>\n",
              "      <th>5</th>\n",
              "      <td>0.388677</td>\n",
              "      <td>0.271349</td>\n",
              "      <td>0.828738</td>\n",
              "      <td>0.356753</td>\n",
              "    </tr>\n",
              "    <tr>\n",
              "      <th>6</th>\n",
              "      <td>0.280935</td>\n",
              "      <td>0.542696</td>\n",
              "      <td>0.140924</td>\n",
              "      <td>0.802197</td>\n",
              "    </tr>\n",
              "    <tr>\n",
              "      <th>7</th>\n",
              "      <td>0.074551</td>\n",
              "      <td>0.986887</td>\n",
              "      <td>0.772245</td>\n",
              "      <td>0.198716</td>\n",
              "    </tr>\n",
              "    <tr>\n",
              "      <th>8</th>\n",
              "      <td>0.005522</td>\n",
              "      <td>0.815461</td>\n",
              "      <td>0.706857</td>\n",
              "      <td>0.729007</td>\n",
              "    </tr>\n",
              "    <tr>\n",
              "      <th>9</th>\n",
              "      <td>0.771270</td>\n",
              "      <td>0.074045</td>\n",
              "      <td>0.358466</td>\n",
              "      <td>0.115869</td>\n",
              "    </tr>\n",
              "  </tbody>\n",
              "</table>\n",
              "</div>"
            ],
            "text/plain": [
              "          A         B         C         D\n",
              "0  0.122038  0.495177  0.034389  0.909320\n",
              "1  0.258780  0.662522  0.311711  0.520068\n",
              "2  0.546710  0.184854  0.969585  0.775133\n",
              "3  0.939499  0.894827  0.597900  0.921874\n",
              "4  0.088493  0.195983  0.045227  0.325330\n",
              "5  0.388677  0.271349  0.828738  0.356753\n",
              "6  0.280935  0.542696  0.140924  0.802197\n",
              "7  0.074551  0.986887  0.772245  0.198716\n",
              "8  0.005522  0.815461  0.706857  0.729007\n",
              "9  0.771270  0.074045  0.358466  0.115869"
            ]
          },
          "metadata": {},
          "execution_count": 18
        }
      ]
    },
    {
      "cell_type": "markdown",
      "metadata": {
        "id": "dHfnUR5jxzxe"
      },
      "source": [
        "Wytnij wiersze obiektu _df_ dla których kolumna _C_ jest większa niż 0.8.  \n",
        "Pomocniczo: Analogicznie jak w jezyku SQL poniższe zapytanie:\n",
        "\n",
        "\n",
        "```\n",
        "SELECT * FROM df WHERE C > 0.8\n",
        "```\n",
        "\n"
      ]
    },
    {
      "cell_type": "code",
      "metadata": {
        "id": "hZkMl5_jxlG6",
        "colab": {
          "base_uri": "https://localhost:8080/",
          "height": 80
        },
        "outputId": "168aa6ba-6434-49d3-afd6-c2157ff4bd86"
      },
      "source": [
        "df[df['C']>0.8]"
      ],
      "execution_count": 3,
      "outputs": [
        {
          "output_type": "execute_result",
          "data": {
            "text/html": [
              "<div>\n",
              "<style scoped>\n",
              "    .dataframe tbody tr th:only-of-type {\n",
              "        vertical-align: middle;\n",
              "    }\n",
              "\n",
              "    .dataframe tbody tr th {\n",
              "        vertical-align: top;\n",
              "    }\n",
              "\n",
              "    .dataframe thead th {\n",
              "        text-align: right;\n",
              "    }\n",
              "</style>\n",
              "<table border=\"1\" class=\"dataframe\">\n",
              "  <thead>\n",
              "    <tr style=\"text-align: right;\">\n",
              "      <th></th>\n",
              "      <th>A</th>\n",
              "      <th>B</th>\n",
              "      <th>C</th>\n",
              "      <th>D</th>\n",
              "    </tr>\n",
              "  </thead>\n",
              "  <tbody>\n",
              "    <tr>\n",
              "      <th>8</th>\n",
              "      <td>0.065052</td>\n",
              "      <td>0.948886</td>\n",
              "      <td>0.965632</td>\n",
              "      <td>0.808397</td>\n",
              "    </tr>\n",
              "  </tbody>\n",
              "</table>\n",
              "</div>"
            ],
            "text/plain": [
              "          A         B         C         D\n",
              "8  0.065052  0.948886  0.965632  0.808397"
            ]
          },
          "metadata": {},
          "execution_count": 3
        }
      ]
    },
    {
      "cell_type": "markdown",
      "metadata": {
        "id": "J9pY1rtr1sC0"
      },
      "source": [
        "### <a name='2'></a> Ćwiczenie 152\n",
        "\n",
        "Wytnij wiersze obiektu _df_ dla których kolumna _C_ jest większa niż 0.3 oraz kolumna _D_ jest mniejsza niż 0.7. "
      ]
    },
    {
      "cell_type": "code",
      "metadata": {
        "id": "X-Pn6X-CyjC4",
        "colab": {
          "base_uri": "https://localhost:8080/",
          "height": 173
        },
        "outputId": "17c96f01-a459-41df-fab8-1b0822ef5b00"
      },
      "source": [
        "df[(df['C']> 0.3) & (df['D'] < 0.7)]"
      ],
      "execution_count": 8,
      "outputs": [
        {
          "output_type": "execute_result",
          "data": {
            "text/html": [
              "<div>\n",
              "<style scoped>\n",
              "    .dataframe tbody tr th:only-of-type {\n",
              "        vertical-align: middle;\n",
              "    }\n",
              "\n",
              "    .dataframe tbody tr th {\n",
              "        vertical-align: top;\n",
              "    }\n",
              "\n",
              "    .dataframe thead th {\n",
              "        text-align: right;\n",
              "    }\n",
              "</style>\n",
              "<table border=\"1\" class=\"dataframe\">\n",
              "  <thead>\n",
              "    <tr style=\"text-align: right;\">\n",
              "      <th></th>\n",
              "      <th>A</th>\n",
              "      <th>B</th>\n",
              "      <th>C</th>\n",
              "      <th>D</th>\n",
              "    </tr>\n",
              "  </thead>\n",
              "  <tbody>\n",
              "    <tr>\n",
              "      <th>0</th>\n",
              "      <td>0.374540</td>\n",
              "      <td>0.950714</td>\n",
              "      <td>0.731994</td>\n",
              "      <td>0.598658</td>\n",
              "    </tr>\n",
              "    <tr>\n",
              "      <th>4</th>\n",
              "      <td>0.304242</td>\n",
              "      <td>0.524756</td>\n",
              "      <td>0.431945</td>\n",
              "      <td>0.291229</td>\n",
              "    </tr>\n",
              "    <tr>\n",
              "      <th>7</th>\n",
              "      <td>0.592415</td>\n",
              "      <td>0.046450</td>\n",
              "      <td>0.607545</td>\n",
              "      <td>0.170524</td>\n",
              "    </tr>\n",
              "    <tr>\n",
              "      <th>9</th>\n",
              "      <td>0.304614</td>\n",
              "      <td>0.097672</td>\n",
              "      <td>0.684233</td>\n",
              "      <td>0.440152</td>\n",
              "    </tr>\n",
              "  </tbody>\n",
              "</table>\n",
              "</div>"
            ],
            "text/plain": [
              "          A         B         C         D\n",
              "0  0.374540  0.950714  0.731994  0.598658\n",
              "4  0.304242  0.524756  0.431945  0.291229\n",
              "7  0.592415  0.046450  0.607545  0.170524\n",
              "9  0.304614  0.097672  0.684233  0.440152"
            ]
          },
          "metadata": {},
          "execution_count": 8
        }
      ]
    },
    {
      "cell_type": "markdown",
      "metadata": {
        "id": "XQLYT2m11wVG"
      },
      "source": [
        "### <a name='3'></a> Ćwiczenie 153\n",
        "Dokonaj iteracji po pierwszych pięciu wierszach obiektu _df_. Każdy wiersz wydrukuj do konsoli.\n",
        "\n",
        "__Wskazówka:__ Wykorzystaj funkcję _pd.DataFrame.iterrows()_."
      ]
    },
    {
      "cell_type": "code",
      "metadata": {
        "id": "87L3OusazWgG",
        "colab": {
          "base_uri": "https://localhost:8080/"
        },
        "outputId": "0b3196dc-58ee-4cab-eb8b-7902279a4598"
      },
      "source": [
        "for index, row in df.head().iterrows():\n",
        "  print(row)"
      ],
      "execution_count": 11,
      "outputs": [
        {
          "output_type": "stream",
          "name": "stdout",
          "text": [
            "A    0.374540\n",
            "B    0.950714\n",
            "C    0.731994\n",
            "D    0.598658\n",
            "Name: 0, dtype: float64\n",
            "A    0.156019\n",
            "B    0.155995\n",
            "C    0.058084\n",
            "D    0.866176\n",
            "Name: 1, dtype: float64\n",
            "A    0.601115\n",
            "B    0.708073\n",
            "C    0.020584\n",
            "D    0.969910\n",
            "Name: 2, dtype: float64\n",
            "A    0.832443\n",
            "B    0.212339\n",
            "C    0.181825\n",
            "D    0.183405\n",
            "Name: 3, dtype: float64\n",
            "A    0.304242\n",
            "B    0.524756\n",
            "C    0.431945\n",
            "D    0.291229\n",
            "Name: 4, dtype: float64\n"
          ]
        }
      ]
    },
    {
      "cell_type": "markdown",
      "metadata": {
        "id": "4xTKSUzg10MK"
      },
      "source": [
        "### <a name='4'></a> Ćwiczenie 154\n",
        "Ustaw wartość w wierszu o indeksie 3 dla kolumny B jako _np.nan_.\n",
        "Wykorzystaj _df.iloc_."
      ]
    },
    {
      "cell_type": "code",
      "metadata": {
        "id": "Ji4FS2866kSE"
      },
      "source": [
        "df.iloc[3,1] = np.nan"
      ],
      "execution_count": 19,
      "outputs": []
    },
    {
      "cell_type": "markdown",
      "metadata": {
        "id": "6cViISQm6_xB"
      },
      "source": [
        "Ustaw wartość w wierszu o indeksie 8 dla kolumny D jako _np.nan_. Wykorzystaj _df.loc_."
      ]
    },
    {
      "cell_type": "code",
      "metadata": {
        "id": "77L0q1HA64UJ"
      },
      "source": [
        "df.loc[8, 'D'] = np.nan"
      ],
      "execution_count": 20,
      "outputs": []
    },
    {
      "cell_type": "markdown",
      "metadata": {
        "id": "dAu6FE2A7OoF"
      },
      "source": [
        "Wyświetl obiekt _df_."
      ]
    },
    {
      "cell_type": "code",
      "metadata": {
        "id": "PF7W9djK7Nka",
        "colab": {
          "base_uri": "https://localhost:8080/",
          "height": 359
        },
        "outputId": "f15c796c-3c9f-47b9-aa25-5b1ab2aec882"
      },
      "source": [
        "df"
      ],
      "execution_count": 27,
      "outputs": [
        {
          "output_type": "execute_result",
          "data": {
            "text/html": [
              "<div>\n",
              "<style scoped>\n",
              "    .dataframe tbody tr th:only-of-type {\n",
              "        vertical-align: middle;\n",
              "    }\n",
              "\n",
              "    .dataframe tbody tr th {\n",
              "        vertical-align: top;\n",
              "    }\n",
              "\n",
              "    .dataframe thead th {\n",
              "        text-align: right;\n",
              "    }\n",
              "</style>\n",
              "<table border=\"1\" class=\"dataframe\">\n",
              "  <thead>\n",
              "    <tr style=\"text-align: right;\">\n",
              "      <th></th>\n",
              "      <th>A</th>\n",
              "      <th>B</th>\n",
              "      <th>C</th>\n",
              "      <th>D</th>\n",
              "    </tr>\n",
              "  </thead>\n",
              "  <tbody>\n",
              "    <tr>\n",
              "      <th>0</th>\n",
              "      <td>0.122038</td>\n",
              "      <td>0.495177</td>\n",
              "      <td>0.034389</td>\n",
              "      <td>0.909320</td>\n",
              "    </tr>\n",
              "    <tr>\n",
              "      <th>1</th>\n",
              "      <td>0.258780</td>\n",
              "      <td>0.662522</td>\n",
              "      <td>0.311711</td>\n",
              "      <td>0.520068</td>\n",
              "    </tr>\n",
              "    <tr>\n",
              "      <th>2</th>\n",
              "      <td>0.546710</td>\n",
              "      <td>0.184854</td>\n",
              "      <td>0.969585</td>\n",
              "      <td>0.775133</td>\n",
              "    </tr>\n",
              "    <tr>\n",
              "      <th>3</th>\n",
              "      <td>0.939499</td>\n",
              "      <td>NaN</td>\n",
              "      <td>0.597900</td>\n",
              "      <td>0.921874</td>\n",
              "    </tr>\n",
              "    <tr>\n",
              "      <th>4</th>\n",
              "      <td>0.088493</td>\n",
              "      <td>0.195983</td>\n",
              "      <td>0.045227</td>\n",
              "      <td>0.325330</td>\n",
              "    </tr>\n",
              "    <tr>\n",
              "      <th>5</th>\n",
              "      <td>0.388677</td>\n",
              "      <td>0.271349</td>\n",
              "      <td>0.828738</td>\n",
              "      <td>0.356753</td>\n",
              "    </tr>\n",
              "    <tr>\n",
              "      <th>6</th>\n",
              "      <td>0.280935</td>\n",
              "      <td>0.542696</td>\n",
              "      <td>0.140924</td>\n",
              "      <td>0.802197</td>\n",
              "    </tr>\n",
              "    <tr>\n",
              "      <th>7</th>\n",
              "      <td>0.074551</td>\n",
              "      <td>0.986887</td>\n",
              "      <td>0.772245</td>\n",
              "      <td>0.198716</td>\n",
              "    </tr>\n",
              "    <tr>\n",
              "      <th>8</th>\n",
              "      <td>0.005522</td>\n",
              "      <td>0.815461</td>\n",
              "      <td>0.706857</td>\n",
              "      <td>NaN</td>\n",
              "    </tr>\n",
              "    <tr>\n",
              "      <th>9</th>\n",
              "      <td>0.771270</td>\n",
              "      <td>0.074045</td>\n",
              "      <td>0.358466</td>\n",
              "      <td>0.115869</td>\n",
              "    </tr>\n",
              "  </tbody>\n",
              "</table>\n",
              "</div>"
            ],
            "text/plain": [
              "          A         B         C         D\n",
              "0  0.122038  0.495177  0.034389  0.909320\n",
              "1  0.258780  0.662522  0.311711  0.520068\n",
              "2  0.546710  0.184854  0.969585  0.775133\n",
              "3  0.939499       NaN  0.597900  0.921874\n",
              "4  0.088493  0.195983  0.045227  0.325330\n",
              "5  0.388677  0.271349  0.828738  0.356753\n",
              "6  0.280935  0.542696  0.140924  0.802197\n",
              "7  0.074551  0.986887  0.772245  0.198716\n",
              "8  0.005522  0.815461  0.706857       NaN\n",
              "9  0.771270  0.074045  0.358466  0.115869"
            ]
          },
          "metadata": {},
          "execution_count": 27
        }
      ]
    },
    {
      "cell_type": "markdown",
      "metadata": {
        "id": "o3HKIKlP15Ro"
      },
      "source": [
        "### <a name='5'></a> Ćwiczenie 155\n",
        "Usuń wszystkie wiersze z obiektu _df_ zawierające braki danych i przypisz do zmiennej _df1_. Wyświetl zmienną _df1_."
      ]
    },
    {
      "cell_type": "code",
      "metadata": {
        "id": "ykYD4qGj8JjL"
      },
      "source": [
        "df1 = df.dropna(axis=0)"
      ],
      "execution_count": 28,
      "outputs": []
    },
    {
      "cell_type": "code",
      "metadata": {
        "id": "LCefp2X9LtbC",
        "outputId": "b5f0824b-2b28-4931-d79c-0d5214fd37a1",
        "colab": {
          "base_uri": "https://localhost:8080/",
          "height": 297
        }
      },
      "source": [
        "df1"
      ],
      "execution_count": 29,
      "outputs": [
        {
          "output_type": "execute_result",
          "data": {
            "text/html": [
              "<div>\n",
              "<style scoped>\n",
              "    .dataframe tbody tr th:only-of-type {\n",
              "        vertical-align: middle;\n",
              "    }\n",
              "\n",
              "    .dataframe tbody tr th {\n",
              "        vertical-align: top;\n",
              "    }\n",
              "\n",
              "    .dataframe thead th {\n",
              "        text-align: right;\n",
              "    }\n",
              "</style>\n",
              "<table border=\"1\" class=\"dataframe\">\n",
              "  <thead>\n",
              "    <tr style=\"text-align: right;\">\n",
              "      <th></th>\n",
              "      <th>A</th>\n",
              "      <th>B</th>\n",
              "      <th>C</th>\n",
              "      <th>D</th>\n",
              "    </tr>\n",
              "  </thead>\n",
              "  <tbody>\n",
              "    <tr>\n",
              "      <th>0</th>\n",
              "      <td>0.122038</td>\n",
              "      <td>0.495177</td>\n",
              "      <td>0.034389</td>\n",
              "      <td>0.909320</td>\n",
              "    </tr>\n",
              "    <tr>\n",
              "      <th>1</th>\n",
              "      <td>0.258780</td>\n",
              "      <td>0.662522</td>\n",
              "      <td>0.311711</td>\n",
              "      <td>0.520068</td>\n",
              "    </tr>\n",
              "    <tr>\n",
              "      <th>2</th>\n",
              "      <td>0.546710</td>\n",
              "      <td>0.184854</td>\n",
              "      <td>0.969585</td>\n",
              "      <td>0.775133</td>\n",
              "    </tr>\n",
              "    <tr>\n",
              "      <th>4</th>\n",
              "      <td>0.088493</td>\n",
              "      <td>0.195983</td>\n",
              "      <td>0.045227</td>\n",
              "      <td>0.325330</td>\n",
              "    </tr>\n",
              "    <tr>\n",
              "      <th>5</th>\n",
              "      <td>0.388677</td>\n",
              "      <td>0.271349</td>\n",
              "      <td>0.828738</td>\n",
              "      <td>0.356753</td>\n",
              "    </tr>\n",
              "    <tr>\n",
              "      <th>6</th>\n",
              "      <td>0.280935</td>\n",
              "      <td>0.542696</td>\n",
              "      <td>0.140924</td>\n",
              "      <td>0.802197</td>\n",
              "    </tr>\n",
              "    <tr>\n",
              "      <th>7</th>\n",
              "      <td>0.074551</td>\n",
              "      <td>0.986887</td>\n",
              "      <td>0.772245</td>\n",
              "      <td>0.198716</td>\n",
              "    </tr>\n",
              "    <tr>\n",
              "      <th>9</th>\n",
              "      <td>0.771270</td>\n",
              "      <td>0.074045</td>\n",
              "      <td>0.358466</td>\n",
              "      <td>0.115869</td>\n",
              "    </tr>\n",
              "  </tbody>\n",
              "</table>\n",
              "</div>"
            ],
            "text/plain": [
              "          A         B         C         D\n",
              "0  0.122038  0.495177  0.034389  0.909320\n",
              "1  0.258780  0.662522  0.311711  0.520068\n",
              "2  0.546710  0.184854  0.969585  0.775133\n",
              "4  0.088493  0.195983  0.045227  0.325330\n",
              "5  0.388677  0.271349  0.828738  0.356753\n",
              "6  0.280935  0.542696  0.140924  0.802197\n",
              "7  0.074551  0.986887  0.772245  0.198716\n",
              "9  0.771270  0.074045  0.358466  0.115869"
            ]
          },
          "metadata": {},
          "execution_count": 29
        }
      ]
    },
    {
      "cell_type": "markdown",
      "metadata": {
        "id": "PunXd_Ey16so"
      },
      "source": [
        "### <a name='6'></a> Ćwiczenie 156\n",
        "Zauważ, że indeks po usunięciu dwóch wieszy w obiekcie _df1_ nie jest po kolei. Zresetuj indeks, aby wprowadzić kolejność (nie dodawaj nowej kolumny, tylko zreseuj indeks). Wyświetl zmienną _df1_."
      ]
    },
    {
      "cell_type": "code",
      "metadata": {
        "id": "qWKKJCnN8sSJ"
      },
      "source": [
        "df1 = df1.reset_index(drop=True)"
      ],
      "execution_count": 30,
      "outputs": []
    },
    {
      "cell_type": "code",
      "metadata": {
        "id": "z9SZijunMJz0",
        "outputId": "9a3555c5-734a-4a3d-dbf6-0ae46f87ecc3",
        "colab": {
          "base_uri": "https://localhost:8080/",
          "height": 297
        }
      },
      "source": [
        "df1"
      ],
      "execution_count": 31,
      "outputs": [
        {
          "output_type": "execute_result",
          "data": {
            "text/html": [
              "<div>\n",
              "<style scoped>\n",
              "    .dataframe tbody tr th:only-of-type {\n",
              "        vertical-align: middle;\n",
              "    }\n",
              "\n",
              "    .dataframe tbody tr th {\n",
              "        vertical-align: top;\n",
              "    }\n",
              "\n",
              "    .dataframe thead th {\n",
              "        text-align: right;\n",
              "    }\n",
              "</style>\n",
              "<table border=\"1\" class=\"dataframe\">\n",
              "  <thead>\n",
              "    <tr style=\"text-align: right;\">\n",
              "      <th></th>\n",
              "      <th>A</th>\n",
              "      <th>B</th>\n",
              "      <th>C</th>\n",
              "      <th>D</th>\n",
              "    </tr>\n",
              "  </thead>\n",
              "  <tbody>\n",
              "    <tr>\n",
              "      <th>0</th>\n",
              "      <td>0.122038</td>\n",
              "      <td>0.495177</td>\n",
              "      <td>0.034389</td>\n",
              "      <td>0.909320</td>\n",
              "    </tr>\n",
              "    <tr>\n",
              "      <th>1</th>\n",
              "      <td>0.258780</td>\n",
              "      <td>0.662522</td>\n",
              "      <td>0.311711</td>\n",
              "      <td>0.520068</td>\n",
              "    </tr>\n",
              "    <tr>\n",
              "      <th>2</th>\n",
              "      <td>0.546710</td>\n",
              "      <td>0.184854</td>\n",
              "      <td>0.969585</td>\n",
              "      <td>0.775133</td>\n",
              "    </tr>\n",
              "    <tr>\n",
              "      <th>3</th>\n",
              "      <td>0.088493</td>\n",
              "      <td>0.195983</td>\n",
              "      <td>0.045227</td>\n",
              "      <td>0.325330</td>\n",
              "    </tr>\n",
              "    <tr>\n",
              "      <th>4</th>\n",
              "      <td>0.388677</td>\n",
              "      <td>0.271349</td>\n",
              "      <td>0.828738</td>\n",
              "      <td>0.356753</td>\n",
              "    </tr>\n",
              "    <tr>\n",
              "      <th>5</th>\n",
              "      <td>0.280935</td>\n",
              "      <td>0.542696</td>\n",
              "      <td>0.140924</td>\n",
              "      <td>0.802197</td>\n",
              "    </tr>\n",
              "    <tr>\n",
              "      <th>6</th>\n",
              "      <td>0.074551</td>\n",
              "      <td>0.986887</td>\n",
              "      <td>0.772245</td>\n",
              "      <td>0.198716</td>\n",
              "    </tr>\n",
              "    <tr>\n",
              "      <th>7</th>\n",
              "      <td>0.771270</td>\n",
              "      <td>0.074045</td>\n",
              "      <td>0.358466</td>\n",
              "      <td>0.115869</td>\n",
              "    </tr>\n",
              "  </tbody>\n",
              "</table>\n",
              "</div>"
            ],
            "text/plain": [
              "          A         B         C         D\n",
              "0  0.122038  0.495177  0.034389  0.909320\n",
              "1  0.258780  0.662522  0.311711  0.520068\n",
              "2  0.546710  0.184854  0.969585  0.775133\n",
              "3  0.088493  0.195983  0.045227  0.325330\n",
              "4  0.388677  0.271349  0.828738  0.356753\n",
              "5  0.280935  0.542696  0.140924  0.802197\n",
              "6  0.074551  0.986887  0.772245  0.198716\n",
              "7  0.771270  0.074045  0.358466  0.115869"
            ]
          },
          "metadata": {},
          "execution_count": 31
        }
      ]
    },
    {
      "cell_type": "markdown",
      "metadata": {
        "id": "hOhqDRz618Tx"
      },
      "source": [
        "### <a name='7'></a> Ćwiczenie 157\n",
        "Wracamy do obiektu _df_. Wyznacz liczbę brakujących elementów w obiekcie _df_ dla każdej kolumny."
      ]
    },
    {
      "cell_type": "code",
      "metadata": {
        "id": "Q2R4qted9F2W",
        "colab": {
          "base_uri": "https://localhost:8080/"
        },
        "outputId": "83c27d3f-9551-4aa9-e5e2-2dc38ebe99c2"
      },
      "source": [
        "df.isnull().sum()"
      ],
      "execution_count": 36,
      "outputs": [
        {
          "output_type": "execute_result",
          "data": {
            "text/plain": [
              "A    0\n",
              "B    1\n",
              "C    0\n",
              "D    1\n",
              "dtype: int64"
            ]
          },
          "metadata": {},
          "execution_count": 36
        }
      ]
    },
    {
      "cell_type": "markdown",
      "metadata": {
        "id": "TXUd_4631-gw"
      },
      "source": [
        "### <a name='8'></a> Ćwiczenie 158\n",
        "Uzupełnij brakujące wartości wartością 0 i przypisz do zmiennej _df_."
      ]
    },
    {
      "cell_type": "code",
      "metadata": {
        "id": "xEtz0Vgx9Y3h"
      },
      "source": [
        "df = df.fillna(0)"
      ],
      "execution_count": 37,
      "outputs": []
    },
    {
      "cell_type": "code",
      "metadata": {
        "id": "2M7FovYvNT-q",
        "outputId": "6d3ab3b7-5c91-4d9a-86e4-dd199cfbce6b",
        "colab": {
          "base_uri": "https://localhost:8080/",
          "height": 359
        }
      },
      "source": [
        "df"
      ],
      "execution_count": 38,
      "outputs": [
        {
          "output_type": "execute_result",
          "data": {
            "text/html": [
              "<div>\n",
              "<style scoped>\n",
              "    .dataframe tbody tr th:only-of-type {\n",
              "        vertical-align: middle;\n",
              "    }\n",
              "\n",
              "    .dataframe tbody tr th {\n",
              "        vertical-align: top;\n",
              "    }\n",
              "\n",
              "    .dataframe thead th {\n",
              "        text-align: right;\n",
              "    }\n",
              "</style>\n",
              "<table border=\"1\" class=\"dataframe\">\n",
              "  <thead>\n",
              "    <tr style=\"text-align: right;\">\n",
              "      <th></th>\n",
              "      <th>A</th>\n",
              "      <th>B</th>\n",
              "      <th>C</th>\n",
              "      <th>D</th>\n",
              "    </tr>\n",
              "  </thead>\n",
              "  <tbody>\n",
              "    <tr>\n",
              "      <th>0</th>\n",
              "      <td>0.122038</td>\n",
              "      <td>0.495177</td>\n",
              "      <td>0.034389</td>\n",
              "      <td>0.909320</td>\n",
              "    </tr>\n",
              "    <tr>\n",
              "      <th>1</th>\n",
              "      <td>0.258780</td>\n",
              "      <td>0.662522</td>\n",
              "      <td>0.311711</td>\n",
              "      <td>0.520068</td>\n",
              "    </tr>\n",
              "    <tr>\n",
              "      <th>2</th>\n",
              "      <td>0.546710</td>\n",
              "      <td>0.184854</td>\n",
              "      <td>0.969585</td>\n",
              "      <td>0.775133</td>\n",
              "    </tr>\n",
              "    <tr>\n",
              "      <th>3</th>\n",
              "      <td>0.939499</td>\n",
              "      <td>0.000000</td>\n",
              "      <td>0.597900</td>\n",
              "      <td>0.921874</td>\n",
              "    </tr>\n",
              "    <tr>\n",
              "      <th>4</th>\n",
              "      <td>0.088493</td>\n",
              "      <td>0.195983</td>\n",
              "      <td>0.045227</td>\n",
              "      <td>0.325330</td>\n",
              "    </tr>\n",
              "    <tr>\n",
              "      <th>5</th>\n",
              "      <td>0.388677</td>\n",
              "      <td>0.271349</td>\n",
              "      <td>0.828738</td>\n",
              "      <td>0.356753</td>\n",
              "    </tr>\n",
              "    <tr>\n",
              "      <th>6</th>\n",
              "      <td>0.280935</td>\n",
              "      <td>0.542696</td>\n",
              "      <td>0.140924</td>\n",
              "      <td>0.802197</td>\n",
              "    </tr>\n",
              "    <tr>\n",
              "      <th>7</th>\n",
              "      <td>0.074551</td>\n",
              "      <td>0.986887</td>\n",
              "      <td>0.772245</td>\n",
              "      <td>0.198716</td>\n",
              "    </tr>\n",
              "    <tr>\n",
              "      <th>8</th>\n",
              "      <td>0.005522</td>\n",
              "      <td>0.815461</td>\n",
              "      <td>0.706857</td>\n",
              "      <td>0.000000</td>\n",
              "    </tr>\n",
              "    <tr>\n",
              "      <th>9</th>\n",
              "      <td>0.771270</td>\n",
              "      <td>0.074045</td>\n",
              "      <td>0.358466</td>\n",
              "      <td>0.115869</td>\n",
              "    </tr>\n",
              "  </tbody>\n",
              "</table>\n",
              "</div>"
            ],
            "text/plain": [
              "          A         B         C         D\n",
              "0  0.122038  0.495177  0.034389  0.909320\n",
              "1  0.258780  0.662522  0.311711  0.520068\n",
              "2  0.546710  0.184854  0.969585  0.775133\n",
              "3  0.939499  0.000000  0.597900  0.921874\n",
              "4  0.088493  0.195983  0.045227  0.325330\n",
              "5  0.388677  0.271349  0.828738  0.356753\n",
              "6  0.280935  0.542696  0.140924  0.802197\n",
              "7  0.074551  0.986887  0.772245  0.198716\n",
              "8  0.005522  0.815461  0.706857  0.000000\n",
              "9  0.771270  0.074045  0.358466  0.115869"
            ]
          },
          "metadata": {},
          "execution_count": 38
        }
      ]
    },
    {
      "cell_type": "markdown",
      "metadata": {
        "id": "tgI6xEn-2AQo"
      },
      "source": [
        "### <a name='9'></a> Ćwiczenie 159\n",
        "Zamień kolejność kolumn w obiekcie _df_ na podaną poniżej:\n",
        "* D, A, B, C  \n",
        "\n",
        "i przypisz do zmiennej _df_."
      ]
    },
    {
      "cell_type": "code",
      "metadata": {
        "id": "xE4dg1bg9l2e",
        "colab": {
          "base_uri": "https://localhost:8080/",
          "height": 359
        },
        "outputId": "778c4301-e5c3-4213-ca69-a7b807e1ccb3"
      },
      "source": [
        "df=df[['D', 'A', 'B', 'C']]\n",
        "df"
      ],
      "execution_count": 39,
      "outputs": [
        {
          "output_type": "execute_result",
          "data": {
            "text/html": [
              "<div>\n",
              "<style scoped>\n",
              "    .dataframe tbody tr th:only-of-type {\n",
              "        vertical-align: middle;\n",
              "    }\n",
              "\n",
              "    .dataframe tbody tr th {\n",
              "        vertical-align: top;\n",
              "    }\n",
              "\n",
              "    .dataframe thead th {\n",
              "        text-align: right;\n",
              "    }\n",
              "</style>\n",
              "<table border=\"1\" class=\"dataframe\">\n",
              "  <thead>\n",
              "    <tr style=\"text-align: right;\">\n",
              "      <th></th>\n",
              "      <th>D</th>\n",
              "      <th>A</th>\n",
              "      <th>B</th>\n",
              "      <th>C</th>\n",
              "    </tr>\n",
              "  </thead>\n",
              "  <tbody>\n",
              "    <tr>\n",
              "      <th>0</th>\n",
              "      <td>0.909320</td>\n",
              "      <td>0.122038</td>\n",
              "      <td>0.495177</td>\n",
              "      <td>0.034389</td>\n",
              "    </tr>\n",
              "    <tr>\n",
              "      <th>1</th>\n",
              "      <td>0.520068</td>\n",
              "      <td>0.258780</td>\n",
              "      <td>0.662522</td>\n",
              "      <td>0.311711</td>\n",
              "    </tr>\n",
              "    <tr>\n",
              "      <th>2</th>\n",
              "      <td>0.775133</td>\n",
              "      <td>0.546710</td>\n",
              "      <td>0.184854</td>\n",
              "      <td>0.969585</td>\n",
              "    </tr>\n",
              "    <tr>\n",
              "      <th>3</th>\n",
              "      <td>0.921874</td>\n",
              "      <td>0.939499</td>\n",
              "      <td>0.000000</td>\n",
              "      <td>0.597900</td>\n",
              "    </tr>\n",
              "    <tr>\n",
              "      <th>4</th>\n",
              "      <td>0.325330</td>\n",
              "      <td>0.088493</td>\n",
              "      <td>0.195983</td>\n",
              "      <td>0.045227</td>\n",
              "    </tr>\n",
              "    <tr>\n",
              "      <th>5</th>\n",
              "      <td>0.356753</td>\n",
              "      <td>0.388677</td>\n",
              "      <td>0.271349</td>\n",
              "      <td>0.828738</td>\n",
              "    </tr>\n",
              "    <tr>\n",
              "      <th>6</th>\n",
              "      <td>0.802197</td>\n",
              "      <td>0.280935</td>\n",
              "      <td>0.542696</td>\n",
              "      <td>0.140924</td>\n",
              "    </tr>\n",
              "    <tr>\n",
              "      <th>7</th>\n",
              "      <td>0.198716</td>\n",
              "      <td>0.074551</td>\n",
              "      <td>0.986887</td>\n",
              "      <td>0.772245</td>\n",
              "    </tr>\n",
              "    <tr>\n",
              "      <th>8</th>\n",
              "      <td>0.000000</td>\n",
              "      <td>0.005522</td>\n",
              "      <td>0.815461</td>\n",
              "      <td>0.706857</td>\n",
              "    </tr>\n",
              "    <tr>\n",
              "      <th>9</th>\n",
              "      <td>0.115869</td>\n",
              "      <td>0.771270</td>\n",
              "      <td>0.074045</td>\n",
              "      <td>0.358466</td>\n",
              "    </tr>\n",
              "  </tbody>\n",
              "</table>\n",
              "</div>"
            ],
            "text/plain": [
              "          D         A         B         C\n",
              "0  0.909320  0.122038  0.495177  0.034389\n",
              "1  0.520068  0.258780  0.662522  0.311711\n",
              "2  0.775133  0.546710  0.184854  0.969585\n",
              "3  0.921874  0.939499  0.000000  0.597900\n",
              "4  0.325330  0.088493  0.195983  0.045227\n",
              "5  0.356753  0.388677  0.271349  0.828738\n",
              "6  0.802197  0.280935  0.542696  0.140924\n",
              "7  0.198716  0.074551  0.986887  0.772245\n",
              "8  0.000000  0.005522  0.815461  0.706857\n",
              "9  0.115869  0.771270  0.074045  0.358466"
            ]
          },
          "metadata": {},
          "execution_count": 39
        }
      ]
    },
    {
      "cell_type": "markdown",
      "metadata": {
        "id": "wxhpf-uq2B1I"
      },
      "source": [
        "### <a name='10'></a> Ćwiczenie 160\n",
        "Usuń kolumnę $D$ z obiektu _df_."
      ]
    },
    {
      "cell_type": "code",
      "metadata": {
        "id": "f42DsNYyCPW6",
        "colab": {
          "base_uri": "https://localhost:8080/",
          "height": 359
        },
        "outputId": "de15aae3-53c3-42e6-f402-cdfee2087239"
      },
      "source": [
        "df.drop(['D'], axis=1)"
      ],
      "execution_count": 44,
      "outputs": [
        {
          "output_type": "execute_result",
          "data": {
            "text/html": [
              "<div>\n",
              "<style scoped>\n",
              "    .dataframe tbody tr th:only-of-type {\n",
              "        vertical-align: middle;\n",
              "    }\n",
              "\n",
              "    .dataframe tbody tr th {\n",
              "        vertical-align: top;\n",
              "    }\n",
              "\n",
              "    .dataframe thead th {\n",
              "        text-align: right;\n",
              "    }\n",
              "</style>\n",
              "<table border=\"1\" class=\"dataframe\">\n",
              "  <thead>\n",
              "    <tr style=\"text-align: right;\">\n",
              "      <th></th>\n",
              "      <th>A</th>\n",
              "      <th>B</th>\n",
              "      <th>C</th>\n",
              "    </tr>\n",
              "  </thead>\n",
              "  <tbody>\n",
              "    <tr>\n",
              "      <th>0</th>\n",
              "      <td>0.122038</td>\n",
              "      <td>0.495177</td>\n",
              "      <td>0.034389</td>\n",
              "    </tr>\n",
              "    <tr>\n",
              "      <th>1</th>\n",
              "      <td>0.258780</td>\n",
              "      <td>0.662522</td>\n",
              "      <td>0.311711</td>\n",
              "    </tr>\n",
              "    <tr>\n",
              "      <th>2</th>\n",
              "      <td>0.546710</td>\n",
              "      <td>0.184854</td>\n",
              "      <td>0.969585</td>\n",
              "    </tr>\n",
              "    <tr>\n",
              "      <th>3</th>\n",
              "      <td>0.939499</td>\n",
              "      <td>0.000000</td>\n",
              "      <td>0.597900</td>\n",
              "    </tr>\n",
              "    <tr>\n",
              "      <th>4</th>\n",
              "      <td>0.088493</td>\n",
              "      <td>0.195983</td>\n",
              "      <td>0.045227</td>\n",
              "    </tr>\n",
              "    <tr>\n",
              "      <th>5</th>\n",
              "      <td>0.388677</td>\n",
              "      <td>0.271349</td>\n",
              "      <td>0.828738</td>\n",
              "    </tr>\n",
              "    <tr>\n",
              "      <th>6</th>\n",
              "      <td>0.280935</td>\n",
              "      <td>0.542696</td>\n",
              "      <td>0.140924</td>\n",
              "    </tr>\n",
              "    <tr>\n",
              "      <th>7</th>\n",
              "      <td>0.074551</td>\n",
              "      <td>0.986887</td>\n",
              "      <td>0.772245</td>\n",
              "    </tr>\n",
              "    <tr>\n",
              "      <th>8</th>\n",
              "      <td>0.005522</td>\n",
              "      <td>0.815461</td>\n",
              "      <td>0.706857</td>\n",
              "    </tr>\n",
              "    <tr>\n",
              "      <th>9</th>\n",
              "      <td>0.771270</td>\n",
              "      <td>0.074045</td>\n",
              "      <td>0.358466</td>\n",
              "    </tr>\n",
              "  </tbody>\n",
              "</table>\n",
              "</div>"
            ],
            "text/plain": [
              "          A         B         C\n",
              "0  0.122038  0.495177  0.034389\n",
              "1  0.258780  0.662522  0.311711\n",
              "2  0.546710  0.184854  0.969585\n",
              "3  0.939499  0.000000  0.597900\n",
              "4  0.088493  0.195983  0.045227\n",
              "5  0.388677  0.271349  0.828738\n",
              "6  0.280935  0.542696  0.140924\n",
              "7  0.074551  0.986887  0.772245\n",
              "8  0.005522  0.815461  0.706857\n",
              "9  0.771270  0.074045  0.358466"
            ]
          },
          "metadata": {},
          "execution_count": 44
        }
      ]
    },
    {
      "cell_type": "code",
      "metadata": {
        "id": "k92d0G3eNu_X"
      },
      "source": [
        ""
      ],
      "execution_count": null,
      "outputs": []
    }
  ]
}
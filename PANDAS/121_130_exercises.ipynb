{
  "nbformat": 4,
  "nbformat_minor": 0,
  "metadata": {
    "colab": {
      "name": "121-130_exercises.ipynb",
      "provenance": [],
      "collapsed_sections": [],
      "include_colab_link": true
    },
    "kernelspec": {
      "name": "python3",
      "display_name": "Python 3"
    }
  },
  "cells": [
    {
      "cell_type": "markdown",
      "metadata": {
        "id": "view-in-github",
        "colab_type": "text"
      },
      "source": [
        "<a href=\"https://colab.research.google.com/github/MG2702/data-science-bootcamp/blob/main/PANDAS/121_130_exercises.ipynb\" target=\"_parent\"><img src=\"https://colab.research.google.com/assets/colab-badge.svg\" alt=\"Open In Colab\"/></a>"
      ]
    },
    {
      "cell_type": "markdown",
      "metadata": {
        "id": "WLEgCW5F1hho"
      },
      "source": [
        "## Pandas\n",
        "\n",
        "### Spis treści:\n",
        "* [Import biblioteki](#0)\n",
        "* [Ćwiczenie 121](#1)\n",
        "* [Ćwiczenie 122](#2)\n",
        "* [Ćwiczenie 123](#3)\n",
        "* [Ćwiczenie 124](#4)\n",
        "* [Ćwiczenie 125](#5)\n",
        "* [Ćwiczenie 126](#6)\n",
        "* [Ćwiczenie 127](#7)\n",
        "* [Ćwiczenie 128](#8)\n",
        "* [Ćwiczenie 129](#9)\n",
        "* [Ćwiczenie 130](#10)"
      ]
    },
    {
      "cell_type": "markdown",
      "metadata": {
        "id": "zeLOLmTj1kBM"
      },
      "source": [
        "### <a name='0'></a>Import biblioteki"
      ]
    },
    {
      "cell_type": "code",
      "metadata": {
        "id": "HXMB7SMe1Wnz",
        "colab": {
          "base_uri": "https://localhost:8080/",
          "height": 36
        },
        "outputId": "461ec0b2-81a8-4217-b746-5e636bded05c"
      },
      "source": [
        "import numpy as np\n",
        "import pandas as pd\n",
        "import seaborn as sns\n",
        "\n",
        "sns.set()\n",
        "np.__version__"
      ],
      "execution_count": 1,
      "outputs": [
        {
          "output_type": "execute_result",
          "data": {
            "application/vnd.google.colaboratory.intrinsic+json": {
              "type": "string"
            },
            "text/plain": [
              "'1.19.5'"
            ]
          },
          "metadata": {},
          "execution_count": 1
        }
      ]
    },
    {
      "cell_type": "markdown",
      "metadata": {
        "id": "d1KXPVTVcwTX"
      },
      "source": [
        "Funkcja _fetch_financial_data()_ pobiera dane dotyczące notowań spółek giełdowych. Będzie wykorzystywana w poniższych ćwiczeniach. Aby pobrać dane konkretnej spółki należy przekazać odpowiedni ticker (symbol) spółki.\n",
        "\n",
        "Kilka przykładowych tickerów spółek:\n",
        "* AMZN - Amazon\n",
        "* GOOGL - Google\n",
        "* MSFT - Microsoft\n",
        "* AAPL - Apple\n",
        "* NKE - Nike\n",
        "* WMT - Walmart"
      ]
    },
    {
      "cell_type": "code",
      "metadata": {
        "id": "gTRegewub5oK"
      },
      "source": [
        "def fetch_financial_data(company='AMZN'):\n",
        "    \"\"\"\n",
        "    This function fetches stock market quotations.\n",
        "    \"\"\"\n",
        "    import pandas_datareader.data as web\n",
        "    return web.DataReader(name=company, data_source='stooq')"
      ],
      "execution_count": null,
      "outputs": []
    },
    {
      "cell_type": "markdown",
      "metadata": {
        "id": "cyc70pMe1oCg"
      },
      "source": [
        "### <a name='1'></a> Ćwiczenie 121\n",
        "Wykorzystując funkcję _fetch_financial_data()_ pobierz notowania dla spółki Google (Alphabet) i przypisz do zmiennej _google_. Wyświetl obiekt _google_."
      ]
    },
    {
      "cell_type": "code",
      "metadata": {
        "id": "LtMEvHZicna7",
        "colab": {
          "base_uri": "https://localhost:8080/",
          "height": 449
        },
        "outputId": "568f83f7-7aee-42cc-8e45-dc35474b14cf"
      },
      "source": [
        "def fetch_financial_data(company='GOOGL'):\n",
        "    \"\"\"\n",
        "    This function fetches stock market quotations.\n",
        "    \"\"\"\n",
        "    import pandas_datareader.data as web\n",
        "    return web.DataReader(name=company, data_source='stooq')\n",
        "google = fetch_financial_data('GOOGL')\n",
        "google"
      ],
      "execution_count": 3,
      "outputs": [
        {
          "output_type": "execute_result",
          "data": {
            "text/html": [
              "<div>\n",
              "<style scoped>\n",
              "    .dataframe tbody tr th:only-of-type {\n",
              "        vertical-align: middle;\n",
              "    }\n",
              "\n",
              "    .dataframe tbody tr th {\n",
              "        vertical-align: top;\n",
              "    }\n",
              "\n",
              "    .dataframe thead th {\n",
              "        text-align: right;\n",
              "    }\n",
              "</style>\n",
              "<table border=\"1\" class=\"dataframe\">\n",
              "  <thead>\n",
              "    <tr style=\"text-align: right;\">\n",
              "      <th></th>\n",
              "      <th>Open</th>\n",
              "      <th>High</th>\n",
              "      <th>Low</th>\n",
              "      <th>Close</th>\n",
              "      <th>Volume</th>\n",
              "    </tr>\n",
              "    <tr>\n",
              "      <th>Date</th>\n",
              "      <th></th>\n",
              "      <th></th>\n",
              "      <th></th>\n",
              "      <th></th>\n",
              "      <th></th>\n",
              "    </tr>\n",
              "  </thead>\n",
              "  <tbody>\n",
              "    <tr>\n",
              "      <th>2021-11-22</th>\n",
              "      <td>2986.6500</td>\n",
              "      <td>2996.59</td>\n",
              "      <td>2922.950</td>\n",
              "      <td>2926.04</td>\n",
              "      <td>1531460</td>\n",
              "    </tr>\n",
              "    <tr>\n",
              "      <th>2021-11-19</th>\n",
              "      <td>2999.5088</td>\n",
              "      <td>3019.33</td>\n",
              "      <td>2977.980</td>\n",
              "      <td>2978.53</td>\n",
              "      <td>1684969</td>\n",
              "    </tr>\n",
              "    <tr>\n",
              "      <th>2021-11-18</th>\n",
              "      <td>2964.8300</td>\n",
              "      <td>3011.61</td>\n",
              "      <td>2957.690</td>\n",
              "      <td>2996.77</td>\n",
              "      <td>1781411</td>\n",
              "    </tr>\n",
              "    <tr>\n",
              "      <th>2021-11-17</th>\n",
              "      <td>2960.5500</td>\n",
              "      <td>2971.19</td>\n",
              "      <td>2944.800</td>\n",
              "      <td>2960.94</td>\n",
              "      <td>979975</td>\n",
              "    </tr>\n",
              "    <tr>\n",
              "      <th>2021-11-16</th>\n",
              "      <td>2962.9900</td>\n",
              "      <td>2975.25</td>\n",
              "      <td>2946.250</td>\n",
              "      <td>2957.52</td>\n",
              "      <td>945200</td>\n",
              "    </tr>\n",
              "    <tr>\n",
              "      <th>...</th>\n",
              "      <td>...</td>\n",
              "      <td>...</td>\n",
              "      <td>...</td>\n",
              "      <td>...</td>\n",
              "      <td>...</td>\n",
              "    </tr>\n",
              "    <tr>\n",
              "      <th>2016-12-01</th>\n",
              "      <td>778.5500</td>\n",
              "      <td>778.60</td>\n",
              "      <td>753.360</td>\n",
              "      <td>764.33</td>\n",
              "      <td>2815292</td>\n",
              "    </tr>\n",
              "    <tr>\n",
              "      <th>2016-11-30</th>\n",
              "      <td>789.1000</td>\n",
              "      <td>791.51</td>\n",
              "      <td>773.145</td>\n",
              "      <td>775.88</td>\n",
              "      <td>2156344</td>\n",
              "    </tr>\n",
              "    <tr>\n",
              "      <th>2016-11-29</th>\n",
              "      <td>788.3800</td>\n",
              "      <td>796.44</td>\n",
              "      <td>785.340</td>\n",
              "      <td>789.44</td>\n",
              "      <td>1507400</td>\n",
              "    </tr>\n",
              "    <tr>\n",
              "      <th>2016-11-28</th>\n",
              "      <td>778.3500</td>\n",
              "      <td>799.74</td>\n",
              "      <td>778.100</td>\n",
              "      <td>785.79</td>\n",
              "      <td>2370636</td>\n",
              "    </tr>\n",
              "    <tr>\n",
              "      <th>2016-11-25</th>\n",
              "      <td>782.6100</td>\n",
              "      <td>782.90</td>\n",
              "      <td>778.190</td>\n",
              "      <td>780.15</td>\n",
              "      <td>539476</td>\n",
              "    </tr>\n",
              "  </tbody>\n",
              "</table>\n",
              "<p>1257 rows × 5 columns</p>\n",
              "</div>"
            ],
            "text/plain": [
              "                 Open     High       Low    Close   Volume\n",
              "Date                                                      \n",
              "2021-11-22  2986.6500  2996.59  2922.950  2926.04  1531460\n",
              "2021-11-19  2999.5088  3019.33  2977.980  2978.53  1684969\n",
              "2021-11-18  2964.8300  3011.61  2957.690  2996.77  1781411\n",
              "2021-11-17  2960.5500  2971.19  2944.800  2960.94   979975\n",
              "2021-11-16  2962.9900  2975.25  2946.250  2957.52   945200\n",
              "...               ...      ...       ...      ...      ...\n",
              "2016-12-01   778.5500   778.60   753.360   764.33  2815292\n",
              "2016-11-30   789.1000   791.51   773.145   775.88  2156344\n",
              "2016-11-29   788.3800   796.44   785.340   789.44  1507400\n",
              "2016-11-28   778.3500   799.74   778.100   785.79  2370636\n",
              "2016-11-25   782.6100   782.90   778.190   780.15   539476\n",
              "\n",
              "[1257 rows x 5 columns]"
            ]
          },
          "metadata": {},
          "execution_count": 3
        }
      ]
    },
    {
      "cell_type": "markdown",
      "metadata": {
        "id": "J9pY1rtr1sC0"
      },
      "source": [
        "### <a name='2'></a> Ćwiczenie 122\n",
        "Wyświetl podstawowe informacje na temat obiektu _google_."
      ]
    },
    {
      "cell_type": "code",
      "metadata": {
        "id": "0QE4WiIDeGqy",
        "colab": {
          "base_uri": "https://localhost:8080/"
        },
        "outputId": "4a321854-8f17-4a15-dfc2-41045b8025ee"
      },
      "source": [
        "google.info()"
      ],
      "execution_count": 5,
      "outputs": [
        {
          "output_type": "stream",
          "name": "stdout",
          "text": [
            "<class 'pandas.core.frame.DataFrame'>\n",
            "DatetimeIndex: 1257 entries, 2021-11-22 to 2016-11-25\n",
            "Data columns (total 5 columns):\n",
            " #   Column  Non-Null Count  Dtype  \n",
            "---  ------  --------------  -----  \n",
            " 0   Open    1257 non-null   float64\n",
            " 1   High    1257 non-null   float64\n",
            " 2   Low     1257 non-null   float64\n",
            " 3   Close   1257 non-null   float64\n",
            " 4   Volume  1257 non-null   int64  \n",
            "dtypes: float64(4), int64(1)\n",
            "memory usage: 58.9 KB\n"
          ]
        }
      ]
    },
    {
      "cell_type": "markdown",
      "metadata": {
        "id": "yic8GlyieMAv"
      },
      "source": [
        "Wyświetl podstawowe statystyki o obiekcie _google_."
      ]
    },
    {
      "cell_type": "code",
      "metadata": {
        "id": "8CiWPVl0eJ2B",
        "colab": {
          "base_uri": "https://localhost:8080/",
          "height": 296
        },
        "outputId": "c218bd31-fe31-44a0-8ef6-56e0720eba21"
      },
      "source": [
        "google.describe()"
      ],
      "execution_count": 6,
      "outputs": [
        {
          "output_type": "execute_result",
          "data": {
            "text/html": [
              "<div>\n",
              "<style scoped>\n",
              "    .dataframe tbody tr th:only-of-type {\n",
              "        vertical-align: middle;\n",
              "    }\n",
              "\n",
              "    .dataframe tbody tr th {\n",
              "        vertical-align: top;\n",
              "    }\n",
              "\n",
              "    .dataframe thead th {\n",
              "        text-align: right;\n",
              "    }\n",
              "</style>\n",
              "<table border=\"1\" class=\"dataframe\">\n",
              "  <thead>\n",
              "    <tr style=\"text-align: right;\">\n",
              "      <th></th>\n",
              "      <th>Open</th>\n",
              "      <th>High</th>\n",
              "      <th>Low</th>\n",
              "      <th>Close</th>\n",
              "      <th>Volume</th>\n",
              "    </tr>\n",
              "  </thead>\n",
              "  <tbody>\n",
              "    <tr>\n",
              "      <th>count</th>\n",
              "      <td>1257.000000</td>\n",
              "      <td>1257.000000</td>\n",
              "      <td>1257.000000</td>\n",
              "      <td>1257.000000</td>\n",
              "      <td>1.257000e+03</td>\n",
              "    </tr>\n",
              "    <tr>\n",
              "      <th>mean</th>\n",
              "      <td>1399.050132</td>\n",
              "      <td>1412.463577</td>\n",
              "      <td>1385.864892</td>\n",
              "      <td>1399.863757</td>\n",
              "      <td>1.738786e+06</td>\n",
              "    </tr>\n",
              "    <tr>\n",
              "      <th>std</th>\n",
              "      <td>546.344775</td>\n",
              "      <td>550.835741</td>\n",
              "      <td>541.897241</td>\n",
              "      <td>546.768157</td>\n",
              "      <td>8.056566e+05</td>\n",
              "    </tr>\n",
              "    <tr>\n",
              "      <th>min</th>\n",
              "      <td>761.900000</td>\n",
              "      <td>770.500000</td>\n",
              "      <td>753.360000</td>\n",
              "      <td>764.330000</td>\n",
              "      <td>4.656380e+05</td>\n",
              "    </tr>\n",
              "    <tr>\n",
              "      <th>25%</th>\n",
              "      <td>1054.320000</td>\n",
              "      <td>1065.570000</td>\n",
              "      <td>1042.000000</td>\n",
              "      <td>1053.180000</td>\n",
              "      <td>1.222854e+06</td>\n",
              "    </tr>\n",
              "    <tr>\n",
              "      <th>50%</th>\n",
              "      <td>1191.720000</td>\n",
              "      <td>1200.560000</td>\n",
              "      <td>1178.910000</td>\n",
              "      <td>1190.530000</td>\n",
              "      <td>1.535337e+06</td>\n",
              "    </tr>\n",
              "    <tr>\n",
              "      <th>75%</th>\n",
              "      <td>1515.000000</td>\n",
              "      <td>1530.740000</td>\n",
              "      <td>1504.260000</td>\n",
              "      <td>1516.850000</td>\n",
              "      <td>1.976958e+06</td>\n",
              "    </tr>\n",
              "    <tr>\n",
              "      <th>max</th>\n",
              "      <td>2999.508800</td>\n",
              "      <td>3019.330000</td>\n",
              "      <td>2977.980000</td>\n",
              "      <td>2996.770000</td>\n",
              "      <td>6.658855e+06</td>\n",
              "    </tr>\n",
              "  </tbody>\n",
              "</table>\n",
              "</div>"
            ],
            "text/plain": [
              "              Open         High          Low        Close        Volume\n",
              "count  1257.000000  1257.000000  1257.000000  1257.000000  1.257000e+03\n",
              "mean   1399.050132  1412.463577  1385.864892  1399.863757  1.738786e+06\n",
              "std     546.344775   550.835741   541.897241   546.768157  8.056566e+05\n",
              "min     761.900000   770.500000   753.360000   764.330000  4.656380e+05\n",
              "25%    1054.320000  1065.570000  1042.000000  1053.180000  1.222854e+06\n",
              "50%    1191.720000  1200.560000  1178.910000  1190.530000  1.535337e+06\n",
              "75%    1515.000000  1530.740000  1504.260000  1516.850000  1.976958e+06\n",
              "max    2999.508800  3019.330000  2977.980000  2996.770000  6.658855e+06"
            ]
          },
          "metadata": {},
          "execution_count": 6
        }
      ]
    },
    {
      "cell_type": "markdown",
      "metadata": {
        "id": "OwKsy3HRf1Z5"
      },
      "source": [
        "Zwróć uwagę na precyzję zapisu poszczególnych statystyk.\n",
        "Spróbuj ustawić odpowiednie opcje biblioteki _pandas_, tak aby wyświetlać dane z dokładnością do dwóch miejsc po przecinku.\n",
        "\n",
        "__Wskazówka:__ \n",
        "https://pandas.pydata.org/pandas-docs/stable/user_guide/options.html"
      ]
    },
    {
      "cell_type": "code",
      "metadata": {
        "id": "mskz01W_gCy0",
        "colab": {
          "base_uri": "https://localhost:8080/",
          "height": 449
        },
        "outputId": "b2c64c3f-dd07-4e1d-8a6e-7b8283436d7e"
      },
      "source": [
        "pd.set_option(\"precision\", 2)\n",
        "google"
      ],
      "execution_count": 9,
      "outputs": [
        {
          "output_type": "execute_result",
          "data": {
            "text/html": [
              "<div>\n",
              "<style scoped>\n",
              "    .dataframe tbody tr th:only-of-type {\n",
              "        vertical-align: middle;\n",
              "    }\n",
              "\n",
              "    .dataframe tbody tr th {\n",
              "        vertical-align: top;\n",
              "    }\n",
              "\n",
              "    .dataframe thead th {\n",
              "        text-align: right;\n",
              "    }\n",
              "</style>\n",
              "<table border=\"1\" class=\"dataframe\">\n",
              "  <thead>\n",
              "    <tr style=\"text-align: right;\">\n",
              "      <th></th>\n",
              "      <th>Open</th>\n",
              "      <th>High</th>\n",
              "      <th>Low</th>\n",
              "      <th>Close</th>\n",
              "      <th>Volume</th>\n",
              "    </tr>\n",
              "    <tr>\n",
              "      <th>Date</th>\n",
              "      <th></th>\n",
              "      <th></th>\n",
              "      <th></th>\n",
              "      <th></th>\n",
              "      <th></th>\n",
              "    </tr>\n",
              "  </thead>\n",
              "  <tbody>\n",
              "    <tr>\n",
              "      <th>2021-11-22</th>\n",
              "      <td>2986.65</td>\n",
              "      <td>2996.59</td>\n",
              "      <td>2922.95</td>\n",
              "      <td>2926.04</td>\n",
              "      <td>1531460</td>\n",
              "    </tr>\n",
              "    <tr>\n",
              "      <th>2021-11-19</th>\n",
              "      <td>2999.51</td>\n",
              "      <td>3019.33</td>\n",
              "      <td>2977.98</td>\n",
              "      <td>2978.53</td>\n",
              "      <td>1684969</td>\n",
              "    </tr>\n",
              "    <tr>\n",
              "      <th>2021-11-18</th>\n",
              "      <td>2964.83</td>\n",
              "      <td>3011.61</td>\n",
              "      <td>2957.69</td>\n",
              "      <td>2996.77</td>\n",
              "      <td>1781411</td>\n",
              "    </tr>\n",
              "    <tr>\n",
              "      <th>2021-11-17</th>\n",
              "      <td>2960.55</td>\n",
              "      <td>2971.19</td>\n",
              "      <td>2944.80</td>\n",
              "      <td>2960.94</td>\n",
              "      <td>979975</td>\n",
              "    </tr>\n",
              "    <tr>\n",
              "      <th>2021-11-16</th>\n",
              "      <td>2962.99</td>\n",
              "      <td>2975.25</td>\n",
              "      <td>2946.25</td>\n",
              "      <td>2957.52</td>\n",
              "      <td>945200</td>\n",
              "    </tr>\n",
              "    <tr>\n",
              "      <th>...</th>\n",
              "      <td>...</td>\n",
              "      <td>...</td>\n",
              "      <td>...</td>\n",
              "      <td>...</td>\n",
              "      <td>...</td>\n",
              "    </tr>\n",
              "    <tr>\n",
              "      <th>2016-12-01</th>\n",
              "      <td>778.55</td>\n",
              "      <td>778.60</td>\n",
              "      <td>753.36</td>\n",
              "      <td>764.33</td>\n",
              "      <td>2815292</td>\n",
              "    </tr>\n",
              "    <tr>\n",
              "      <th>2016-11-30</th>\n",
              "      <td>789.10</td>\n",
              "      <td>791.51</td>\n",
              "      <td>773.14</td>\n",
              "      <td>775.88</td>\n",
              "      <td>2156344</td>\n",
              "    </tr>\n",
              "    <tr>\n",
              "      <th>2016-11-29</th>\n",
              "      <td>788.38</td>\n",
              "      <td>796.44</td>\n",
              "      <td>785.34</td>\n",
              "      <td>789.44</td>\n",
              "      <td>1507400</td>\n",
              "    </tr>\n",
              "    <tr>\n",
              "      <th>2016-11-28</th>\n",
              "      <td>778.35</td>\n",
              "      <td>799.74</td>\n",
              "      <td>778.10</td>\n",
              "      <td>785.79</td>\n",
              "      <td>2370636</td>\n",
              "    </tr>\n",
              "    <tr>\n",
              "      <th>2016-11-25</th>\n",
              "      <td>782.61</td>\n",
              "      <td>782.90</td>\n",
              "      <td>778.19</td>\n",
              "      <td>780.15</td>\n",
              "      <td>539476</td>\n",
              "    </tr>\n",
              "  </tbody>\n",
              "</table>\n",
              "<p>1257 rows × 5 columns</p>\n",
              "</div>"
            ],
            "text/plain": [
              "               Open     High      Low    Close   Volume\n",
              "Date                                                   \n",
              "2021-11-22  2986.65  2996.59  2922.95  2926.04  1531460\n",
              "2021-11-19  2999.51  3019.33  2977.98  2978.53  1684969\n",
              "2021-11-18  2964.83  3011.61  2957.69  2996.77  1781411\n",
              "2021-11-17  2960.55  2971.19  2944.80  2960.94   979975\n",
              "2021-11-16  2962.99  2975.25  2946.25  2957.52   945200\n",
              "...             ...      ...      ...      ...      ...\n",
              "2016-12-01   778.55   778.60   753.36   764.33  2815292\n",
              "2016-11-30   789.10   791.51   773.14   775.88  2156344\n",
              "2016-11-29   788.38   796.44   785.34   789.44  1507400\n",
              "2016-11-28   778.35   799.74   778.10   785.79  2370636\n",
              "2016-11-25   782.61   782.90   778.19   780.15   539476\n",
              "\n",
              "[1257 rows x 5 columns]"
            ]
          },
          "metadata": {},
          "execution_count": 9
        }
      ]
    },
    {
      "cell_type": "markdown",
      "metadata": {
        "id": "iEXHrwHwheyo"
      },
      "source": [
        "__Dodatkowo:__\n",
        "Poniższe ustawienie stłumi także notację wykładniczą (patrz kolumna _Volume_)."
      ]
    },
    {
      "cell_type": "code",
      "metadata": {
        "id": "qdosioVRhGfC",
        "colab": {
          "base_uri": "https://localhost:8080/",
          "height": 296
        },
        "outputId": "0fc2b736-f649-4987-e49f-4cd4d81c38f0"
      },
      "source": [
        "pd.options.display.float_format = '{:.2f}'.format\n",
        "google.describe()"
      ],
      "execution_count": 10,
      "outputs": [
        {
          "output_type": "execute_result",
          "data": {
            "text/html": [
              "<div>\n",
              "<style scoped>\n",
              "    .dataframe tbody tr th:only-of-type {\n",
              "        vertical-align: middle;\n",
              "    }\n",
              "\n",
              "    .dataframe tbody tr th {\n",
              "        vertical-align: top;\n",
              "    }\n",
              "\n",
              "    .dataframe thead th {\n",
              "        text-align: right;\n",
              "    }\n",
              "</style>\n",
              "<table border=\"1\" class=\"dataframe\">\n",
              "  <thead>\n",
              "    <tr style=\"text-align: right;\">\n",
              "      <th></th>\n",
              "      <th>Open</th>\n",
              "      <th>High</th>\n",
              "      <th>Low</th>\n",
              "      <th>Close</th>\n",
              "      <th>Volume</th>\n",
              "    </tr>\n",
              "  </thead>\n",
              "  <tbody>\n",
              "    <tr>\n",
              "      <th>count</th>\n",
              "      <td>1257.00</td>\n",
              "      <td>1257.00</td>\n",
              "      <td>1257.00</td>\n",
              "      <td>1257.00</td>\n",
              "      <td>1257.00</td>\n",
              "    </tr>\n",
              "    <tr>\n",
              "      <th>mean</th>\n",
              "      <td>1399.05</td>\n",
              "      <td>1412.46</td>\n",
              "      <td>1385.86</td>\n",
              "      <td>1399.86</td>\n",
              "      <td>1738786.05</td>\n",
              "    </tr>\n",
              "    <tr>\n",
              "      <th>std</th>\n",
              "      <td>546.34</td>\n",
              "      <td>550.84</td>\n",
              "      <td>541.90</td>\n",
              "      <td>546.77</td>\n",
              "      <td>805656.56</td>\n",
              "    </tr>\n",
              "    <tr>\n",
              "      <th>min</th>\n",
              "      <td>761.90</td>\n",
              "      <td>770.50</td>\n",
              "      <td>753.36</td>\n",
              "      <td>764.33</td>\n",
              "      <td>465638.00</td>\n",
              "    </tr>\n",
              "    <tr>\n",
              "      <th>25%</th>\n",
              "      <td>1054.32</td>\n",
              "      <td>1065.57</td>\n",
              "      <td>1042.00</td>\n",
              "      <td>1053.18</td>\n",
              "      <td>1222854.00</td>\n",
              "    </tr>\n",
              "    <tr>\n",
              "      <th>50%</th>\n",
              "      <td>1191.72</td>\n",
              "      <td>1200.56</td>\n",
              "      <td>1178.91</td>\n",
              "      <td>1190.53</td>\n",
              "      <td>1535337.00</td>\n",
              "    </tr>\n",
              "    <tr>\n",
              "      <th>75%</th>\n",
              "      <td>1515.00</td>\n",
              "      <td>1530.74</td>\n",
              "      <td>1504.26</td>\n",
              "      <td>1516.85</td>\n",
              "      <td>1976958.00</td>\n",
              "    </tr>\n",
              "    <tr>\n",
              "      <th>max</th>\n",
              "      <td>2999.51</td>\n",
              "      <td>3019.33</td>\n",
              "      <td>2977.98</td>\n",
              "      <td>2996.77</td>\n",
              "      <td>6658855.00</td>\n",
              "    </tr>\n",
              "  </tbody>\n",
              "</table>\n",
              "</div>"
            ],
            "text/plain": [
              "         Open    High     Low   Close     Volume\n",
              "count 1257.00 1257.00 1257.00 1257.00    1257.00\n",
              "mean  1399.05 1412.46 1385.86 1399.86 1738786.05\n",
              "std    546.34  550.84  541.90  546.77  805656.56\n",
              "min    761.90  770.50  753.36  764.33  465638.00\n",
              "25%   1054.32 1065.57 1042.00 1053.18 1222854.00\n",
              "50%   1191.72 1200.56 1178.91 1190.53 1535337.00\n",
              "75%   1515.00 1530.74 1504.26 1516.85 1976958.00\n",
              "max   2999.51 3019.33 2977.98 2996.77 6658855.00"
            ]
          },
          "metadata": {},
          "execution_count": 10
        }
      ]
    },
    {
      "cell_type": "markdown",
      "metadata": {
        "id": "p12duQuPlWSU"
      },
      "source": [
        "Zbuduj wykres ceny zamknięcia (_Close_) dla obiektu _google_."
      ]
    },
    {
      "cell_type": "code",
      "metadata": {
        "id": "tmpm-uiAlKgv",
        "colab": {
          "base_uri": "https://localhost:8080/",
          "height": 294
        },
        "outputId": "86f3e02f-03f0-4537-ddbc-0ec85e2914ae"
      },
      "source": [
        "google['Close'].plot()"
      ],
      "execution_count": 13,
      "outputs": [
        {
          "output_type": "execute_result",
          "data": {
            "text/plain": [
              "<matplotlib.axes._subplots.AxesSubplot at 0x7f7e7c751850>"
            ]
          },
          "metadata": {},
          "execution_count": 13
        },
        {
          "output_type": "display_data",
          "data": {
            "image/png": "[encoded data removed]",
            "text/plain": [
              "<Figure size 432x288 with 1 Axes>"
            ]
          },
          "metadata": {
            "needs_background": "light"
          }
        }
      ]
    },
    {
      "cell_type": "markdown",
      "metadata": {
        "id": "XQLYT2m11wVG"
      },
      "source": [
        "### <a name='3'></a> Ćwiczenie 123\n",
        "Zamień indeks _Date_ na kolumnę. Przypisz trwale zmiany do zniennej _google_."
      ]
    },
    {
      "cell_type": "code",
      "metadata": {
        "id": "Ac1OnxjOh3fa",
        "colab": {
          "base_uri": "https://localhost:8080/",
          "height": 418
        },
        "outputId": "7f81241f-05d6-4d0c-ea02-7d747f7e8d71"
      },
      "source": [
        "google = google.reset_index()\n",
        "google"
      ],
      "execution_count": 17,
      "outputs": [
        {
          "output_type": "execute_result",
          "data": {
            "text/html": [
              "<div>\n",
              "<style scoped>\n",
              "    .dataframe tbody tr th:only-of-type {\n",
              "        vertical-align: middle;\n",
              "    }\n",
              "\n",
              "    .dataframe tbody tr th {\n",
              "        vertical-align: top;\n",
              "    }\n",
              "\n",
              "    .dataframe thead th {\n",
              "        text-align: right;\n",
              "    }\n",
              "</style>\n",
              "<table border=\"1\" class=\"dataframe\">\n",
              "  <thead>\n",
              "    <tr style=\"text-align: right;\">\n",
              "      <th></th>\n",
              "      <th>index</th>\n",
              "      <th>Date</th>\n",
              "      <th>Open</th>\n",
              "      <th>High</th>\n",
              "      <th>Low</th>\n",
              "      <th>Close</th>\n",
              "      <th>Volume</th>\n",
              "    </tr>\n",
              "  </thead>\n",
              "  <tbody>\n",
              "    <tr>\n",
              "      <th>0</th>\n",
              "      <td>0</td>\n",
              "      <td>2021-11-22</td>\n",
              "      <td>2986.65</td>\n",
              "      <td>2996.59</td>\n",
              "      <td>2922.95</td>\n",
              "      <td>2926.04</td>\n",
              "      <td>1531460</td>\n",
              "    </tr>\n",
              "    <tr>\n",
              "      <th>1</th>\n",
              "      <td>1</td>\n",
              "      <td>2021-11-19</td>\n",
              "      <td>2999.51</td>\n",
              "      <td>3019.33</td>\n",
              "      <td>2977.98</td>\n",
              "      <td>2978.53</td>\n",
              "      <td>1684969</td>\n",
              "    </tr>\n",
              "    <tr>\n",
              "      <th>2</th>\n",
              "      <td>2</td>\n",
              "      <td>2021-11-18</td>\n",
              "      <td>2964.83</td>\n",
              "      <td>3011.61</td>\n",
              "      <td>2957.69</td>\n",
              "      <td>2996.77</td>\n",
              "      <td>1781411</td>\n",
              "    </tr>\n",
              "    <tr>\n",
              "      <th>3</th>\n",
              "      <td>3</td>\n",
              "      <td>2021-11-17</td>\n",
              "      <td>2960.55</td>\n",
              "      <td>2971.19</td>\n",
              "      <td>2944.80</td>\n",
              "      <td>2960.94</td>\n",
              "      <td>979975</td>\n",
              "    </tr>\n",
              "    <tr>\n",
              "      <th>4</th>\n",
              "      <td>4</td>\n",
              "      <td>2021-11-16</td>\n",
              "      <td>2962.99</td>\n",
              "      <td>2975.25</td>\n",
              "      <td>2946.25</td>\n",
              "      <td>2957.52</td>\n",
              "      <td>945200</td>\n",
              "    </tr>\n",
              "    <tr>\n",
              "      <th>...</th>\n",
              "      <td>...</td>\n",
              "      <td>...</td>\n",
              "      <td>...</td>\n",
              "      <td>...</td>\n",
              "      <td>...</td>\n",
              "      <td>...</td>\n",
              "      <td>...</td>\n",
              "    </tr>\n",
              "    <tr>\n",
              "      <th>1252</th>\n",
              "      <td>1252</td>\n",
              "      <td>2016-12-01</td>\n",
              "      <td>778.55</td>\n",
              "      <td>778.60</td>\n",
              "      <td>753.36</td>\n",
              "      <td>764.33</td>\n",
              "      <td>2815292</td>\n",
              "    </tr>\n",
              "    <tr>\n",
              "      <th>1253</th>\n",
              "      <td>1253</td>\n",
              "      <td>2016-11-30</td>\n",
              "      <td>789.10</td>\n",
              "      <td>791.51</td>\n",
              "      <td>773.14</td>\n",
              "      <td>775.88</td>\n",
              "      <td>2156344</td>\n",
              "    </tr>\n",
              "    <tr>\n",
              "      <th>1254</th>\n",
              "      <td>1254</td>\n",
              "      <td>2016-11-29</td>\n",
              "      <td>788.38</td>\n",
              "      <td>796.44</td>\n",
              "      <td>785.34</td>\n",
              "      <td>789.44</td>\n",
              "      <td>1507400</td>\n",
              "    </tr>\n",
              "    <tr>\n",
              "      <th>1255</th>\n",
              "      <td>1255</td>\n",
              "      <td>2016-11-28</td>\n",
              "      <td>778.35</td>\n",
              "      <td>799.74</td>\n",
              "      <td>778.10</td>\n",
              "      <td>785.79</td>\n",
              "      <td>2370636</td>\n",
              "    </tr>\n",
              "    <tr>\n",
              "      <th>1256</th>\n",
              "      <td>1256</td>\n",
              "      <td>2016-11-25</td>\n",
              "      <td>782.61</td>\n",
              "      <td>782.90</td>\n",
              "      <td>778.19</td>\n",
              "      <td>780.15</td>\n",
              "      <td>539476</td>\n",
              "    </tr>\n",
              "  </tbody>\n",
              "</table>\n",
              "<p>1257 rows × 7 columns</p>\n",
              "</div>"
            ],
            "text/plain": [
              "      index       Date    Open    High     Low   Close   Volume\n",
              "0         0 2021-11-22 2986.65 2996.59 2922.95 2926.04  1531460\n",
              "1         1 2021-11-19 2999.51 3019.33 2977.98 2978.53  1684969\n",
              "2         2 2021-11-18 2964.83 3011.61 2957.69 2996.77  1781411\n",
              "3         3 2021-11-17 2960.55 2971.19 2944.80 2960.94   979975\n",
              "4         4 2021-11-16 2962.99 2975.25 2946.25 2957.52   945200\n",
              "...     ...        ...     ...     ...     ...     ...      ...\n",
              "1252   1252 2016-12-01  778.55  778.60  753.36  764.33  2815292\n",
              "1253   1253 2016-11-30  789.10  791.51  773.14  775.88  2156344\n",
              "1254   1254 2016-11-29  788.38  796.44  785.34  789.44  1507400\n",
              "1255   1255 2016-11-28  778.35  799.74  778.10  785.79  2370636\n",
              "1256   1256 2016-11-25  782.61  782.90  778.19  780.15   539476\n",
              "\n",
              "[1257 rows x 7 columns]"
            ]
          },
          "metadata": {},
          "execution_count": 17
        }
      ]
    },
    {
      "cell_type": "markdown",
      "metadata": {
        "id": "SRfQiXpGiXBc"
      },
      "source": [
        "Przypisz dwie nowe kolumny do obiektu _google_ dodając kolumnę z aktualnym numerem miesiąca o nazwie _'Month'_ oraz z rokiem o nazwie _'Year'_."
      ]
    },
    {
      "cell_type": "code",
      "metadata": {
        "id": "S32izk-BiL_q",
        "colab": {
          "base_uri": "https://localhost:8080/",
          "height": 418
        },
        "outputId": "de9c22bf-db2d-451d-8ffe-5a3bd22e5046"
      },
      "source": [
        "google['Month']=google['Date'].dt.month\n",
        "google['Year']=google['Date'].dt.year\n",
        "google"
      ],
      "execution_count": 21,
      "outputs": [
        {
          "output_type": "execute_result",
          "data": {
            "text/html": [
              "<div>\n",
              "<style scoped>\n",
              "    .dataframe tbody tr th:only-of-type {\n",
              "        vertical-align: middle;\n",
              "    }\n",
              "\n",
              "    .dataframe tbody tr th {\n",
              "        vertical-align: top;\n",
              "    }\n",
              "\n",
              "    .dataframe thead th {\n",
              "        text-align: right;\n",
              "    }\n",
              "</style>\n",
              "<table border=\"1\" class=\"dataframe\">\n",
              "  <thead>\n",
              "    <tr style=\"text-align: right;\">\n",
              "      <th></th>\n",
              "      <th>index</th>\n",
              "      <th>Date</th>\n",
              "      <th>Open</th>\n",
              "      <th>High</th>\n",
              "      <th>Low</th>\n",
              "      <th>Close</th>\n",
              "      <th>Volume</th>\n",
              "      <th>Month</th>\n",
              "      <th>Year</th>\n",
              "    </tr>\n",
              "  </thead>\n",
              "  <tbody>\n",
              "    <tr>\n",
              "      <th>0</th>\n",
              "      <td>0</td>\n",
              "      <td>2021-11-22</td>\n",
              "      <td>2986.65</td>\n",
              "      <td>2996.59</td>\n",
              "      <td>2922.95</td>\n",
              "      <td>2926.04</td>\n",
              "      <td>1531460</td>\n",
              "      <td>11</td>\n",
              "      <td>2021</td>\n",
              "    </tr>\n",
              "    <tr>\n",
              "      <th>1</th>\n",
              "      <td>1</td>\n",
              "      <td>2021-11-19</td>\n",
              "      <td>2999.51</td>\n",
              "      <td>3019.33</td>\n",
              "      <td>2977.98</td>\n",
              "      <td>2978.53</td>\n",
              "      <td>1684969</td>\n",
              "      <td>11</td>\n",
              "      <td>2021</td>\n",
              "    </tr>\n",
              "    <tr>\n",
              "      <th>2</th>\n",
              "      <td>2</td>\n",
              "      <td>2021-11-18</td>\n",
              "      <td>2964.83</td>\n",
              "      <td>3011.61</td>\n",
              "      <td>2957.69</td>\n",
              "      <td>2996.77</td>\n",
              "      <td>1781411</td>\n",
              "      <td>11</td>\n",
              "      <td>2021</td>\n",
              "    </tr>\n",
              "    <tr>\n",
              "      <th>3</th>\n",
              "      <td>3</td>\n",
              "      <td>2021-11-17</td>\n",
              "      <td>2960.55</td>\n",
              "      <td>2971.19</td>\n",
              "      <td>2944.80</td>\n",
              "      <td>2960.94</td>\n",
              "      <td>979975</td>\n",
              "      <td>11</td>\n",
              "      <td>2021</td>\n",
              "    </tr>\n",
              "    <tr>\n",
              "      <th>4</th>\n",
              "      <td>4</td>\n",
              "      <td>2021-11-16</td>\n",
              "      <td>2962.99</td>\n",
              "      <td>2975.25</td>\n",
              "      <td>2946.25</td>\n",
              "      <td>2957.52</td>\n",
              "      <td>945200</td>\n",
              "      <td>11</td>\n",
              "      <td>2021</td>\n",
              "    </tr>\n",
              "    <tr>\n",
              "      <th>...</th>\n",
              "      <td>...</td>\n",
              "      <td>...</td>\n",
              "      <td>...</td>\n",
              "      <td>...</td>\n",
              "      <td>...</td>\n",
              "      <td>...</td>\n",
              "      <td>...</td>\n",
              "      <td>...</td>\n",
              "      <td>...</td>\n",
              "    </tr>\n",
              "    <tr>\n",
              "      <th>1252</th>\n",
              "      <td>1252</td>\n",
              "      <td>2016-12-01</td>\n",
              "      <td>778.55</td>\n",
              "      <td>778.60</td>\n",
              "      <td>753.36</td>\n",
              "      <td>764.33</td>\n",
              "      <td>2815292</td>\n",
              "      <td>12</td>\n",
              "      <td>2016</td>\n",
              "    </tr>\n",
              "    <tr>\n",
              "      <th>1253</th>\n",
              "      <td>1253</td>\n",
              "      <td>2016-11-30</td>\n",
              "      <td>789.10</td>\n",
              "      <td>791.51</td>\n",
              "      <td>773.14</td>\n",
              "      <td>775.88</td>\n",
              "      <td>2156344</td>\n",
              "      <td>11</td>\n",
              "      <td>2016</td>\n",
              "    </tr>\n",
              "    <tr>\n",
              "      <th>1254</th>\n",
              "      <td>1254</td>\n",
              "      <td>2016-11-29</td>\n",
              "      <td>788.38</td>\n",
              "      <td>796.44</td>\n",
              "      <td>785.34</td>\n",
              "      <td>789.44</td>\n",
              "      <td>1507400</td>\n",
              "      <td>11</td>\n",
              "      <td>2016</td>\n",
              "    </tr>\n",
              "    <tr>\n",
              "      <th>1255</th>\n",
              "      <td>1255</td>\n",
              "      <td>2016-11-28</td>\n",
              "      <td>778.35</td>\n",
              "      <td>799.74</td>\n",
              "      <td>778.10</td>\n",
              "      <td>785.79</td>\n",
              "      <td>2370636</td>\n",
              "      <td>11</td>\n",
              "      <td>2016</td>\n",
              "    </tr>\n",
              "    <tr>\n",
              "      <th>1256</th>\n",
              "      <td>1256</td>\n",
              "      <td>2016-11-25</td>\n",
              "      <td>782.61</td>\n",
              "      <td>782.90</td>\n",
              "      <td>778.19</td>\n",
              "      <td>780.15</td>\n",
              "      <td>539476</td>\n",
              "      <td>11</td>\n",
              "      <td>2016</td>\n",
              "    </tr>\n",
              "  </tbody>\n",
              "</table>\n",
              "<p>1257 rows × 9 columns</p>\n",
              "</div>"
            ],
            "text/plain": [
              "      index       Date    Open    High     Low   Close   Volume  Month  Year\n",
              "0         0 2021-11-22 2986.65 2996.59 2922.95 2926.04  1531460     11  2021\n",
              "1         1 2021-11-19 2999.51 3019.33 2977.98 2978.53  1684969     11  2021\n",
              "2         2 2021-11-18 2964.83 3011.61 2957.69 2996.77  1781411     11  2021\n",
              "3         3 2021-11-17 2960.55 2971.19 2944.80 2960.94   979975     11  2021\n",
              "4         4 2021-11-16 2962.99 2975.25 2946.25 2957.52   945200     11  2021\n",
              "...     ...        ...     ...     ...     ...     ...      ...    ...   ...\n",
              "1252   1252 2016-12-01  778.55  778.60  753.36  764.33  2815292     12  2016\n",
              "1253   1253 2016-11-30  789.10  791.51  773.14  775.88  2156344     11  2016\n",
              "1254   1254 2016-11-29  788.38  796.44  785.34  789.44  1507400     11  2016\n",
              "1255   1255 2016-11-28  778.35  799.74  778.10  785.79  2370636     11  2016\n",
              "1256   1256 2016-11-25  782.61  782.90  778.19  780.15   539476     11  2016\n",
              "\n",
              "[1257 rows x 9 columns]"
            ]
          },
          "metadata": {},
          "execution_count": 21
        }
      ]
    },
    {
      "cell_type": "markdown",
      "metadata": {
        "id": "4xTKSUzg10MK"
      },
      "source": [
        "### <a name='4'></a> Ćwiczenie 124\n",
        "Policz średnią cenę zamknięcia (_Close_) dla poszczególnego roku (pogrupuj dane po roku - kolumna _Year_ i następnie policz wartość średnią)."
      ]
    },
    {
      "cell_type": "code",
      "metadata": {
        "id": "wSFs7z0Qi3Y7",
        "colab": {
          "base_uri": "https://localhost:8080/"
        },
        "outputId": "d4a0dc08-8bce-46bc-835a-1b13ecd0d8ff"
      },
      "source": [
        "google.groupby('Year')['Close'].mean()"
      ],
      "execution_count": 29,
      "outputs": [
        {
          "output_type": "execute_result",
          "data": {
            "text/plain": [
              "Year\n",
              "2016    797.75\n",
              "2017    939.77\n",
              "2018   1122.05\n",
              "2019   1191.22\n",
              "2020   1478.99\n",
              "2021   2434.65\n",
              "Name: Close, dtype: float64"
            ]
          },
          "metadata": {},
          "execution_count": 29
        }
      ]
    },
    {
      "cell_type": "markdown",
      "metadata": {
        "id": "DSqQjdS4j-wl"
      },
      "source": [
        "Otrzymane wartości przedstaw na wykresie wykorzystując metodę _plot()_."
      ]
    },
    {
      "cell_type": "code",
      "metadata": {
        "id": "0nBtvC2tjaTK",
        "colab": {
          "base_uri": "https://localhost:8080/",
          "height": 305
        },
        "outputId": "cc49e5d4-5a64-493a-9bbc-6e6037e27fff"
      },
      "source": [
        "google.groupby('Year')['Close'].mean().plot()"
      ],
      "execution_count": 30,
      "outputs": [
        {
          "output_type": "execute_result",
          "data": {
            "text/plain": [
              "<matplotlib.axes._subplots.AxesSubplot at 0x7f7e7c72c610>"
            ]
          },
          "metadata": {},
          "execution_count": 30
        },
        {
          "output_type": "display_data",
          "data": {
            "image/png": "[encoded data removed]",
            "text/plain": [
              "<Figure size 432x288 with 1 Axes>"
            ]
          },
          "metadata": {
            "needs_background": "light"
          }
        }
      ]
    },
    {
      "cell_type": "markdown",
      "metadata": {
        "id": "RduPz9PDkR2-"
      },
      "source": [
        "Policz średnią cenę zamknięcia (_Close_) dla miesiąca (pogrupuj dane po miesiącu - kolumna _Month_ i następnie policz wartość średnią)."
      ]
    },
    {
      "cell_type": "code",
      "metadata": {
        "id": "4Vd83xT_kIsg",
        "colab": {
          "base_uri": "https://localhost:8080/"
        },
        "outputId": "8fec7f28-976f-4d85-b96d-ffda69b77970"
      },
      "source": [
        "google.groupby('Month')['Close'].mean()"
      ],
      "execution_count": 31,
      "outputs": [
        {
          "output_type": "execute_result",
          "data": {
            "text/plain": [
              "Month\n",
              "1    1250.95\n",
              "2    1314.21\n",
              "3    1278.61\n",
              "4    1336.22\n",
              "5    1358.70\n",
              "6    1420.24\n",
              "7    1482.95\n",
              "8    1526.55\n",
              "9    1553.43\n",
              "10   1521.49\n",
              "11   1525.88\n",
              "12   1212.18\n",
              "Name: Close, dtype: float64"
            ]
          },
          "metadata": {},
          "execution_count": 31
        }
      ]
    },
    {
      "cell_type": "markdown",
      "metadata": {
        "id": "ytITHhjjkaoO"
      },
      "source": [
        "Otrzymane wartości przedstaw na wykresie wykorzystując metodę _plot()_.\n",
        "Zauważ, które miesiące mogą wskazywać na słabsze okresy na giełdzie."
      ]
    },
    {
      "cell_type": "code",
      "metadata": {
        "id": "ob02yPQRkK3E",
        "colab": {
          "base_uri": "https://localhost:8080/",
          "height": 303
        },
        "outputId": "a41dde09-a1a1-4028-ee92-8a6672d2f608"
      },
      "source": [
        "google.groupby('Month')['Close'].mean().plot()"
      ],
      "execution_count": 32,
      "outputs": [
        {
          "output_type": "execute_result",
          "data": {
            "text/plain": [
              "<matplotlib.axes._subplots.AxesSubplot at 0x7f7e7c1356d0>"
            ]
          },
          "metadata": {},
          "execution_count": 32
        },
        {
          "output_type": "display_data",
          "data": {
            "image/png": "[encoded data removed]",
            "text/plain": [
              "<Figure size 432x288 with 1 Axes>"
            ]
          },
          "metadata": {
            "needs_background": "light"
          }
        }
      ]
    },
    {
      "cell_type": "markdown",
      "metadata": {
        "id": "o3HKIKlP15Ro"
      },
      "source": [
        "### <a name='5'></a> Ćwiczenie 125\n",
        "Pogrupuj dane z obiektu _google_ na poziomie roku i miesiąca. Następnie policz wartość średnią."
      ]
    },
    {
      "cell_type": "code",
      "metadata": {
        "id": "DptCcOtNkokd",
        "colab": {
          "base_uri": "https://localhost:8080/"
        },
        "outputId": "cac3356e-ac63-43e3-f6ca-12a81d518652"
      },
      "source": [
        "google.groupby(['Year','Month'])['Close'].mean()"
      ],
      "execution_count": 37,
      "outputs": [
        {
          "output_type": "execute_result",
          "data": {
            "text/plain": [
              "Year  Month\n",
              "2016  11       782.82\n",
              "      12       800.59\n",
              "2017  1        830.25\n",
              "      2        836.76\n",
              "      3        853.78\n",
              "                ...  \n",
              "2021  7       2571.20\n",
              "      8       2767.42\n",
              "      9       2823.57\n",
              "      10      2802.26\n",
              "      11      2950.47\n",
              "Name: Close, Length: 61, dtype: float64"
            ]
          },
          "metadata": {},
          "execution_count": 37
        }
      ]
    },
    {
      "cell_type": "markdown",
      "metadata": {
        "id": "PunXd_Ey16so"
      },
      "source": [
        "### <a name='6'></a> Ćwiczenie 126\n",
        "Znajdź indeks dla którego kolumna _Close_ przyjmuje wartość największą."
      ]
    },
    {
      "cell_type": "code",
      "metadata": {
        "id": "PIUT3b7Rm7v1",
        "colab": {
          "base_uri": "https://localhost:8080/"
        },
        "outputId": "aa118d8d-4b34-4ed8-a5a9-f9c708b37ff5"
      },
      "source": [
        "google['Close'].argmax()"
      ],
      "execution_count": 40,
      "outputs": [
        {
          "output_type": "execute_result",
          "data": {
            "text/plain": [
              "2"
            ]
          },
          "metadata": {},
          "execution_count": 40
        }
      ]
    },
    {
      "cell_type": "code",
      "metadata": {
        "id": "GrmUdQzl90xG",
        "outputId": "cb78edd6-13fa-4dab-9774-f2ada2a2cfa3",
        "colab": {
          "base_uri": "https://localhost:8080/",
          "height": 80
        }
      },
      "source": [
        "google.nlargest(1, 'Close')"
      ],
      "execution_count": 41,
      "outputs": [
        {
          "output_type": "execute_result",
          "data": {
            "text/html": [
              "<div>\n",
              "<style scoped>\n",
              "    .dataframe tbody tr th:only-of-type {\n",
              "        vertical-align: middle;\n",
              "    }\n",
              "\n",
              "    .dataframe tbody tr th {\n",
              "        vertical-align: top;\n",
              "    }\n",
              "\n",
              "    .dataframe thead th {\n",
              "        text-align: right;\n",
              "    }\n",
              "</style>\n",
              "<table border=\"1\" class=\"dataframe\">\n",
              "  <thead>\n",
              "    <tr style=\"text-align: right;\">\n",
              "      <th></th>\n",
              "      <th>index</th>\n",
              "      <th>Date</th>\n",
              "      <th>Open</th>\n",
              "      <th>High</th>\n",
              "      <th>Low</th>\n",
              "      <th>Close</th>\n",
              "      <th>Volume</th>\n",
              "      <th>Month</th>\n",
              "      <th>Year</th>\n",
              "    </tr>\n",
              "  </thead>\n",
              "  <tbody>\n",
              "    <tr>\n",
              "      <th>2</th>\n",
              "      <td>2</td>\n",
              "      <td>2021-11-18</td>\n",
              "      <td>2964.83</td>\n",
              "      <td>3011.61</td>\n",
              "      <td>2957.69</td>\n",
              "      <td>2996.77</td>\n",
              "      <td>1781411</td>\n",
              "      <td>11</td>\n",
              "      <td>2021</td>\n",
              "    </tr>\n",
              "  </tbody>\n",
              "</table>\n",
              "</div>"
            ],
            "text/plain": [
              "   index       Date    Open    High     Low   Close   Volume  Month  Year\n",
              "2      2 2021-11-18 2964.83 3011.61 2957.69 2996.77  1781411     11  2021"
            ]
          },
          "metadata": {},
          "execution_count": 41
        }
      ]
    },
    {
      "cell_type": "markdown",
      "metadata": {
        "id": "WETiC6NEnPm0"
      },
      "source": [
        "Wytnij wiersz dla tego indeksu z obiektu _google_ jako obiekt DataFrame. Odczytaj datę."
      ]
    },
    {
      "cell_type": "code",
      "metadata": {
        "id": "XccuGttMnL_d",
        "colab": {
          "base_uri": "https://localhost:8080/",
          "height": 80
        },
        "outputId": "47d43cee-be2c-4ef5-d845-f173d1b14113"
      },
      "source": [
        "google.iloc[[google['Close'].argmax()]]"
      ],
      "execution_count": 42,
      "outputs": [
        {
          "output_type": "execute_result",
          "data": {
            "text/html": [
              "<div>\n",
              "<style scoped>\n",
              "    .dataframe tbody tr th:only-of-type {\n",
              "        vertical-align: middle;\n",
              "    }\n",
              "\n",
              "    .dataframe tbody tr th {\n",
              "        vertical-align: top;\n",
              "    }\n",
              "\n",
              "    .dataframe thead th {\n",
              "        text-align: right;\n",
              "    }\n",
              "</style>\n",
              "<table border=\"1\" class=\"dataframe\">\n",
              "  <thead>\n",
              "    <tr style=\"text-align: right;\">\n",
              "      <th></th>\n",
              "      <th>index</th>\n",
              "      <th>Date</th>\n",
              "      <th>Open</th>\n",
              "      <th>High</th>\n",
              "      <th>Low</th>\n",
              "      <th>Close</th>\n",
              "      <th>Volume</th>\n",
              "      <th>Month</th>\n",
              "      <th>Year</th>\n",
              "    </tr>\n",
              "  </thead>\n",
              "  <tbody>\n",
              "    <tr>\n",
              "      <th>2</th>\n",
              "      <td>2</td>\n",
              "      <td>2021-11-18</td>\n",
              "      <td>2964.83</td>\n",
              "      <td>3011.61</td>\n",
              "      <td>2957.69</td>\n",
              "      <td>2996.77</td>\n",
              "      <td>1781411</td>\n",
              "      <td>11</td>\n",
              "      <td>2021</td>\n",
              "    </tr>\n",
              "  </tbody>\n",
              "</table>\n",
              "</div>"
            ],
            "text/plain": [
              "   index       Date    Open    High     Low   Close   Volume  Month  Year\n",
              "2      2 2021-11-18 2964.83 3011.61 2957.69 2996.77  1781411     11  2021"
            ]
          },
          "metadata": {},
          "execution_count": 42
        }
      ]
    },
    {
      "cell_type": "markdown",
      "metadata": {
        "id": "hOhqDRz618Tx"
      },
      "source": [
        "### <a name='7'></a> Ćwiczenie 127\n",
        "Z obiektu _google_ wytnij kolumny _Date_, _Open_, _Close_, _Volume_.\n",
        "Nie zmieniaj pierwotnego obiektu _google_!\n"
      ]
    },
    {
      "cell_type": "code",
      "metadata": {
        "id": "P17Vtv4imw28",
        "colab": {
          "base_uri": "https://localhost:8080/",
          "height": 418
        },
        "outputId": "dc95d9cd-ccdf-43b4-96d2-54a11643b921"
      },
      "source": [
        "google[['Date', 'Open', 'Close', 'Volume']]"
      ],
      "execution_count": 45,
      "outputs": [
        {
          "output_type": "execute_result",
          "data": {
            "text/html": [
              "<div>\n",
              "<style scoped>\n",
              "    .dataframe tbody tr th:only-of-type {\n",
              "        vertical-align: middle;\n",
              "    }\n",
              "\n",
              "    .dataframe tbody tr th {\n",
              "        vertical-align: top;\n",
              "    }\n",
              "\n",
              "    .dataframe thead th {\n",
              "        text-align: right;\n",
              "    }\n",
              "</style>\n",
              "<table border=\"1\" class=\"dataframe\">\n",
              "  <thead>\n",
              "    <tr style=\"text-align: right;\">\n",
              "      <th></th>\n",
              "      <th>Date</th>\n",
              "      <th>Open</th>\n",
              "      <th>Close</th>\n",
              "      <th>Volume</th>\n",
              "    </tr>\n",
              "  </thead>\n",
              "  <tbody>\n",
              "    <tr>\n",
              "      <th>0</th>\n",
              "      <td>2021-11-22</td>\n",
              "      <td>2986.65</td>\n",
              "      <td>2926.04</td>\n",
              "      <td>1531460</td>\n",
              "    </tr>\n",
              "    <tr>\n",
              "      <th>1</th>\n",
              "      <td>2021-11-19</td>\n",
              "      <td>2999.51</td>\n",
              "      <td>2978.53</td>\n",
              "      <td>1684969</td>\n",
              "    </tr>\n",
              "    <tr>\n",
              "      <th>2</th>\n",
              "      <td>2021-11-18</td>\n",
              "      <td>2964.83</td>\n",
              "      <td>2996.77</td>\n",
              "      <td>1781411</td>\n",
              "    </tr>\n",
              "    <tr>\n",
              "      <th>3</th>\n",
              "      <td>2021-11-17</td>\n",
              "      <td>2960.55</td>\n",
              "      <td>2960.94</td>\n",
              "      <td>979975</td>\n",
              "    </tr>\n",
              "    <tr>\n",
              "      <th>4</th>\n",
              "      <td>2021-11-16</td>\n",
              "      <td>2962.99</td>\n",
              "      <td>2957.52</td>\n",
              "      <td>945200</td>\n",
              "    </tr>\n",
              "    <tr>\n",
              "      <th>...</th>\n",
              "      <td>...</td>\n",
              "      <td>...</td>\n",
              "      <td>...</td>\n",
              "      <td>...</td>\n",
              "    </tr>\n",
              "    <tr>\n",
              "      <th>1252</th>\n",
              "      <td>2016-12-01</td>\n",
              "      <td>778.55</td>\n",
              "      <td>764.33</td>\n",
              "      <td>2815292</td>\n",
              "    </tr>\n",
              "    <tr>\n",
              "      <th>1253</th>\n",
              "      <td>2016-11-30</td>\n",
              "      <td>789.10</td>\n",
              "      <td>775.88</td>\n",
              "      <td>2156344</td>\n",
              "    </tr>\n",
              "    <tr>\n",
              "      <th>1254</th>\n",
              "      <td>2016-11-29</td>\n",
              "      <td>788.38</td>\n",
              "      <td>789.44</td>\n",
              "      <td>1507400</td>\n",
              "    </tr>\n",
              "    <tr>\n",
              "      <th>1255</th>\n",
              "      <td>2016-11-28</td>\n",
              "      <td>778.35</td>\n",
              "      <td>785.79</td>\n",
              "      <td>2370636</td>\n",
              "    </tr>\n",
              "    <tr>\n",
              "      <th>1256</th>\n",
              "      <td>2016-11-25</td>\n",
              "      <td>782.61</td>\n",
              "      <td>780.15</td>\n",
              "      <td>539476</td>\n",
              "    </tr>\n",
              "  </tbody>\n",
              "</table>\n",
              "<p>1257 rows × 4 columns</p>\n",
              "</div>"
            ],
            "text/plain": [
              "           Date    Open   Close   Volume\n",
              "0    2021-11-22 2986.65 2926.04  1531460\n",
              "1    2021-11-19 2999.51 2978.53  1684969\n",
              "2    2021-11-18 2964.83 2996.77  1781411\n",
              "3    2021-11-17 2960.55 2960.94   979975\n",
              "4    2021-11-16 2962.99 2957.52   945200\n",
              "...         ...     ...     ...      ...\n",
              "1252 2016-12-01  778.55  764.33  2815292\n",
              "1253 2016-11-30  789.10  775.88  2156344\n",
              "1254 2016-11-29  788.38  789.44  1507400\n",
              "1255 2016-11-28  778.35  785.79  2370636\n",
              "1256 2016-11-25  782.61  780.15   539476\n",
              "\n",
              "[1257 rows x 4 columns]"
            ]
          },
          "metadata": {},
          "execution_count": 45
        }
      ]
    },
    {
      "cell_type": "markdown",
      "metadata": {
        "id": "TXUd_4631-gw"
      },
      "source": [
        "### <a name='8'></a> Ćwiczenie 128\n",
        "Ustaw z powrotem indeks dla kolumny _Date_. Wyświetl obiekt _google_."
      ]
    },
    {
      "cell_type": "code",
      "metadata": {
        "id": "E4zwlRNFoMMz",
        "colab": {
          "base_uri": "https://localhost:8080/",
          "height": 449
        },
        "outputId": "08eb1829-61eb-4992-e8da-cf1d5dc96538"
      },
      "source": [
        "google = google.set_index('Date')\n",
        "google"
      ],
      "execution_count": 47,
      "outputs": [
        {
          "output_type": "execute_result",
          "data": {
            "text/html": [
              "<div>\n",
              "<style scoped>\n",
              "    .dataframe tbody tr th:only-of-type {\n",
              "        vertical-align: middle;\n",
              "    }\n",
              "\n",
              "    .dataframe tbody tr th {\n",
              "        vertical-align: top;\n",
              "    }\n",
              "\n",
              "    .dataframe thead th {\n",
              "        text-align: right;\n",
              "    }\n",
              "</style>\n",
              "<table border=\"1\" class=\"dataframe\">\n",
              "  <thead>\n",
              "    <tr style=\"text-align: right;\">\n",
              "      <th></th>\n",
              "      <th>index</th>\n",
              "      <th>Open</th>\n",
              "      <th>High</th>\n",
              "      <th>Low</th>\n",
              "      <th>Close</th>\n",
              "      <th>Volume</th>\n",
              "      <th>Month</th>\n",
              "      <th>Year</th>\n",
              "    </tr>\n",
              "    <tr>\n",
              "      <th>Date</th>\n",
              "      <th></th>\n",
              "      <th></th>\n",
              "      <th></th>\n",
              "      <th></th>\n",
              "      <th></th>\n",
              "      <th></th>\n",
              "      <th></th>\n",
              "      <th></th>\n",
              "    </tr>\n",
              "  </thead>\n",
              "  <tbody>\n",
              "    <tr>\n",
              "      <th>2021-11-22</th>\n",
              "      <td>0</td>\n",
              "      <td>2986.65</td>\n",
              "      <td>2996.59</td>\n",
              "      <td>2922.95</td>\n",
              "      <td>2926.04</td>\n",
              "      <td>1531460</td>\n",
              "      <td>11</td>\n",
              "      <td>2021</td>\n",
              "    </tr>\n",
              "    <tr>\n",
              "      <th>2021-11-19</th>\n",
              "      <td>1</td>\n",
              "      <td>2999.51</td>\n",
              "      <td>3019.33</td>\n",
              "      <td>2977.98</td>\n",
              "      <td>2978.53</td>\n",
              "      <td>1684969</td>\n",
              "      <td>11</td>\n",
              "      <td>2021</td>\n",
              "    </tr>\n",
              "    <tr>\n",
              "      <th>2021-11-18</th>\n",
              "      <td>2</td>\n",
              "      <td>2964.83</td>\n",
              "      <td>3011.61</td>\n",
              "      <td>2957.69</td>\n",
              "      <td>2996.77</td>\n",
              "      <td>1781411</td>\n",
              "      <td>11</td>\n",
              "      <td>2021</td>\n",
              "    </tr>\n",
              "    <tr>\n",
              "      <th>2021-11-17</th>\n",
              "      <td>3</td>\n",
              "      <td>2960.55</td>\n",
              "      <td>2971.19</td>\n",
              "      <td>2944.80</td>\n",
              "      <td>2960.94</td>\n",
              "      <td>979975</td>\n",
              "      <td>11</td>\n",
              "      <td>2021</td>\n",
              "    </tr>\n",
              "    <tr>\n",
              "      <th>2021-11-16</th>\n",
              "      <td>4</td>\n",
              "      <td>2962.99</td>\n",
              "      <td>2975.25</td>\n",
              "      <td>2946.25</td>\n",
              "      <td>2957.52</td>\n",
              "      <td>945200</td>\n",
              "      <td>11</td>\n",
              "      <td>2021</td>\n",
              "    </tr>\n",
              "    <tr>\n",
              "      <th>...</th>\n",
              "      <td>...</td>\n",
              "      <td>...</td>\n",
              "      <td>...</td>\n",
              "      <td>...</td>\n",
              "      <td>...</td>\n",
              "      <td>...</td>\n",
              "      <td>...</td>\n",
              "      <td>...</td>\n",
              "    </tr>\n",
              "    <tr>\n",
              "      <th>2016-12-01</th>\n",
              "      <td>1252</td>\n",
              "      <td>778.55</td>\n",
              "      <td>778.60</td>\n",
              "      <td>753.36</td>\n",
              "      <td>764.33</td>\n",
              "      <td>2815292</td>\n",
              "      <td>12</td>\n",
              "      <td>2016</td>\n",
              "    </tr>\n",
              "    <tr>\n",
              "      <th>2016-11-30</th>\n",
              "      <td>1253</td>\n",
              "      <td>789.10</td>\n",
              "      <td>791.51</td>\n",
              "      <td>773.14</td>\n",
              "      <td>775.88</td>\n",
              "      <td>2156344</td>\n",
              "      <td>11</td>\n",
              "      <td>2016</td>\n",
              "    </tr>\n",
              "    <tr>\n",
              "      <th>2016-11-29</th>\n",
              "      <td>1254</td>\n",
              "      <td>788.38</td>\n",
              "      <td>796.44</td>\n",
              "      <td>785.34</td>\n",
              "      <td>789.44</td>\n",
              "      <td>1507400</td>\n",
              "      <td>11</td>\n",
              "      <td>2016</td>\n",
              "    </tr>\n",
              "    <tr>\n",
              "      <th>2016-11-28</th>\n",
              "      <td>1255</td>\n",
              "      <td>778.35</td>\n",
              "      <td>799.74</td>\n",
              "      <td>778.10</td>\n",
              "      <td>785.79</td>\n",
              "      <td>2370636</td>\n",
              "      <td>11</td>\n",
              "      <td>2016</td>\n",
              "    </tr>\n",
              "    <tr>\n",
              "      <th>2016-11-25</th>\n",
              "      <td>1256</td>\n",
              "      <td>782.61</td>\n",
              "      <td>782.90</td>\n",
              "      <td>778.19</td>\n",
              "      <td>780.15</td>\n",
              "      <td>539476</td>\n",
              "      <td>11</td>\n",
              "      <td>2016</td>\n",
              "    </tr>\n",
              "  </tbody>\n",
              "</table>\n",
              "<p>1257 rows × 8 columns</p>\n",
              "</div>"
            ],
            "text/plain": [
              "            index    Open    High     Low   Close   Volume  Month  Year\n",
              "Date                                                                   \n",
              "2021-11-22      0 2986.65 2996.59 2922.95 2926.04  1531460     11  2021\n",
              "2021-11-19      1 2999.51 3019.33 2977.98 2978.53  1684969     11  2021\n",
              "2021-11-18      2 2964.83 3011.61 2957.69 2996.77  1781411     11  2021\n",
              "2021-11-17      3 2960.55 2971.19 2944.80 2960.94   979975     11  2021\n",
              "2021-11-16      4 2962.99 2975.25 2946.25 2957.52   945200     11  2021\n",
              "...           ...     ...     ...     ...     ...      ...    ...   ...\n",
              "2016-12-01   1252  778.55  778.60  753.36  764.33  2815292     12  2016\n",
              "2016-11-30   1253  789.10  791.51  773.14  775.88  2156344     11  2016\n",
              "2016-11-29   1254  788.38  796.44  785.34  789.44  1507400     11  2016\n",
              "2016-11-28   1255  778.35  799.74  778.10  785.79  2370636     11  2016\n",
              "2016-11-25   1256  782.61  782.90  778.19  780.15   539476     11  2016\n",
              "\n",
              "[1257 rows x 8 columns]"
            ]
          },
          "metadata": {},
          "execution_count": 47
        }
      ]
    },
    {
      "cell_type": "markdown",
      "metadata": {
        "id": "tgI6xEn-2AQo"
      },
      "source": [
        "### <a name='9'></a> Ćwiczenie 129\n",
        "Usuń na stałe kolumny _Year_ i _Month_ z obiektu _google_. Wyświetl obiekt _google_."
      ]
    },
    {
      "cell_type": "code",
      "metadata": {
        "id": "Qpy5zTecoY1T"
      },
      "source": [
        "del google['Year']\n"
      ],
      "execution_count": 48,
      "outputs": []
    },
    {
      "cell_type": "code",
      "metadata": {
        "id": "PFg0XQCf_NIM",
        "outputId": "92c90cb6-6484-43a9-ed81-1e51f4cc7f09",
        "colab": {
          "base_uri": "https://localhost:8080/",
          "height": 449
        }
      },
      "source": [
        "google = google.drop(columns=['Month', 'index'])\n",
        "google"
      ],
      "execution_count": 53,
      "outputs": [
        {
          "output_type": "execute_result",
          "data": {
            "text/html": [
              "<div>\n",
              "<style scoped>\n",
              "    .dataframe tbody tr th:only-of-type {\n",
              "        vertical-align: middle;\n",
              "    }\n",
              "\n",
              "    .dataframe tbody tr th {\n",
              "        vertical-align: top;\n",
              "    }\n",
              "\n",
              "    .dataframe thead th {\n",
              "        text-align: right;\n",
              "    }\n",
              "</style>\n",
              "<table border=\"1\" class=\"dataframe\">\n",
              "  <thead>\n",
              "    <tr style=\"text-align: right;\">\n",
              "      <th></th>\n",
              "      <th>Open</th>\n",
              "      <th>High</th>\n",
              "      <th>Low</th>\n",
              "      <th>Close</th>\n",
              "      <th>Volume</th>\n",
              "    </tr>\n",
              "    <tr>\n",
              "      <th>Date</th>\n",
              "      <th></th>\n",
              "      <th></th>\n",
              "      <th></th>\n",
              "      <th></th>\n",
              "      <th></th>\n",
              "    </tr>\n",
              "  </thead>\n",
              "  <tbody>\n",
              "    <tr>\n",
              "      <th>2021-11-22</th>\n",
              "      <td>2986.65</td>\n",
              "      <td>2996.59</td>\n",
              "      <td>2922.95</td>\n",
              "      <td>2926.04</td>\n",
              "      <td>1531460</td>\n",
              "    </tr>\n",
              "    <tr>\n",
              "      <th>2021-11-19</th>\n",
              "      <td>2999.51</td>\n",
              "      <td>3019.33</td>\n",
              "      <td>2977.98</td>\n",
              "      <td>2978.53</td>\n",
              "      <td>1684969</td>\n",
              "    </tr>\n",
              "    <tr>\n",
              "      <th>2021-11-18</th>\n",
              "      <td>2964.83</td>\n",
              "      <td>3011.61</td>\n",
              "      <td>2957.69</td>\n",
              "      <td>2996.77</td>\n",
              "      <td>1781411</td>\n",
              "    </tr>\n",
              "    <tr>\n",
              "      <th>2021-11-17</th>\n",
              "      <td>2960.55</td>\n",
              "      <td>2971.19</td>\n",
              "      <td>2944.80</td>\n",
              "      <td>2960.94</td>\n",
              "      <td>979975</td>\n",
              "    </tr>\n",
              "    <tr>\n",
              "      <th>2021-11-16</th>\n",
              "      <td>2962.99</td>\n",
              "      <td>2975.25</td>\n",
              "      <td>2946.25</td>\n",
              "      <td>2957.52</td>\n",
              "      <td>945200</td>\n",
              "    </tr>\n",
              "    <tr>\n",
              "      <th>...</th>\n",
              "      <td>...</td>\n",
              "      <td>...</td>\n",
              "      <td>...</td>\n",
              "      <td>...</td>\n",
              "      <td>...</td>\n",
              "    </tr>\n",
              "    <tr>\n",
              "      <th>2016-12-01</th>\n",
              "      <td>778.55</td>\n",
              "      <td>778.60</td>\n",
              "      <td>753.36</td>\n",
              "      <td>764.33</td>\n",
              "      <td>2815292</td>\n",
              "    </tr>\n",
              "    <tr>\n",
              "      <th>2016-11-30</th>\n",
              "      <td>789.10</td>\n",
              "      <td>791.51</td>\n",
              "      <td>773.14</td>\n",
              "      <td>775.88</td>\n",
              "      <td>2156344</td>\n",
              "    </tr>\n",
              "    <tr>\n",
              "      <th>2016-11-29</th>\n",
              "      <td>788.38</td>\n",
              "      <td>796.44</td>\n",
              "      <td>785.34</td>\n",
              "      <td>789.44</td>\n",
              "      <td>1507400</td>\n",
              "    </tr>\n",
              "    <tr>\n",
              "      <th>2016-11-28</th>\n",
              "      <td>778.35</td>\n",
              "      <td>799.74</td>\n",
              "      <td>778.10</td>\n",
              "      <td>785.79</td>\n",
              "      <td>2370636</td>\n",
              "    </tr>\n",
              "    <tr>\n",
              "      <th>2016-11-25</th>\n",
              "      <td>782.61</td>\n",
              "      <td>782.90</td>\n",
              "      <td>778.19</td>\n",
              "      <td>780.15</td>\n",
              "      <td>539476</td>\n",
              "    </tr>\n",
              "  </tbody>\n",
              "</table>\n",
              "<p>1257 rows × 5 columns</p>\n",
              "</div>"
            ],
            "text/plain": [
              "              Open    High     Low   Close   Volume\n",
              "Date                                               \n",
              "2021-11-22 2986.65 2996.59 2922.95 2926.04  1531460\n",
              "2021-11-19 2999.51 3019.33 2977.98 2978.53  1684969\n",
              "2021-11-18 2964.83 3011.61 2957.69 2996.77  1781411\n",
              "2021-11-17 2960.55 2971.19 2944.80 2960.94   979975\n",
              "2021-11-16 2962.99 2975.25 2946.25 2957.52   945200\n",
              "...            ...     ...     ...     ...      ...\n",
              "2016-12-01  778.55  778.60  753.36  764.33  2815292\n",
              "2016-11-30  789.10  791.51  773.14  775.88  2156344\n",
              "2016-11-29  788.38  796.44  785.34  789.44  1507400\n",
              "2016-11-28  778.35  799.74  778.10  785.79  2370636\n",
              "2016-11-25  782.61  782.90  778.19  780.15   539476\n",
              "\n",
              "[1257 rows x 5 columns]"
            ]
          },
          "metadata": {},
          "execution_count": 53
        }
      ]
    },
    {
      "cell_type": "markdown",
      "metadata": {
        "id": "wxhpf-uq2B1I"
      },
      "source": [
        "### <a name='10'></a> Ćwiczenie 130\n",
        "Przypisz polskie nazwy kolumn (bez polskich znaków):\n",
        "* Open -> Otwarcie\n",
        "* High -> Najwyzszy\n",
        "* Low -> Najnizszy\n",
        "* Close -> Zamkniecie\n",
        "* Volume -> Wolumen\n",
        "\n",
        "do obiektu _google_. Wyświetl obiekt _google_."
      ]
    },
    {
      "cell_type": "code",
      "metadata": {
        "id": "YFc0KW6URsuc"
      },
      "source": [
        "google.columns = ['Otwarcie', 'Najwyzszy', 'Najnizszy', 'Zamkniecie', 'Wolumen']"
      ],
      "execution_count": 57,
      "outputs": []
    },
    {
      "cell_type": "code",
      "metadata": {
        "id": "_-pJmhfEAShb",
        "outputId": "294f43a5-0888-4a68-c51a-4fcdad8a8bb0",
        "colab": {
          "base_uri": "https://localhost:8080/",
          "height": 449
        }
      },
      "source": [
        "google"
      ],
      "execution_count": 58,
      "outputs": [
        {
          "output_type": "execute_result",
          "data": {
            "text/html": [
              "<div>\n",
              "<style scoped>\n",
              "    .dataframe tbody tr th:only-of-type {\n",
              "        vertical-align: middle;\n",
              "    }\n",
              "\n",
              "    .dataframe tbody tr th {\n",
              "        vertical-align: top;\n",
              "    }\n",
              "\n",
              "    .dataframe thead th {\n",
              "        text-align: right;\n",
              "    }\n",
              "</style>\n",
              "<table border=\"1\" class=\"dataframe\">\n",
              "  <thead>\n",
              "    <tr style=\"text-align: right;\">\n",
              "      <th></th>\n",
              "      <th>Otwarcie</th>\n",
              "      <th>Najwyzszy</th>\n",
              "      <th>Najnizszy</th>\n",
              "      <th>Zamkniecie</th>\n",
              "      <th>Wolumen</th>\n",
              "    </tr>\n",
              "    <tr>\n",
              "      <th>Date</th>\n",
              "      <th></th>\n",
              "      <th></th>\n",
              "      <th></th>\n",
              "      <th></th>\n",
              "      <th></th>\n",
              "    </tr>\n",
              "  </thead>\n",
              "  <tbody>\n",
              "    <tr>\n",
              "      <th>2021-11-22</th>\n",
              "      <td>2986.65</td>\n",
              "      <td>2996.59</td>\n",
              "      <td>2922.95</td>\n",
              "      <td>2926.04</td>\n",
              "      <td>1531460</td>\n",
              "    </tr>\n",
              "    <tr>\n",
              "      <th>2021-11-19</th>\n",
              "      <td>2999.51</td>\n",
              "      <td>3019.33</td>\n",
              "      <td>2977.98</td>\n",
              "      <td>2978.53</td>\n",
              "      <td>1684969</td>\n",
              "    </tr>\n",
              "    <tr>\n",
              "      <th>2021-11-18</th>\n",
              "      <td>2964.83</td>\n",
              "      <td>3011.61</td>\n",
              "      <td>2957.69</td>\n",
              "      <td>2996.77</td>\n",
              "      <td>1781411</td>\n",
              "    </tr>\n",
              "    <tr>\n",
              "      <th>2021-11-17</th>\n",
              "      <td>2960.55</td>\n",
              "      <td>2971.19</td>\n",
              "      <td>2944.80</td>\n",
              "      <td>2960.94</td>\n",
              "      <td>979975</td>\n",
              "    </tr>\n",
              "    <tr>\n",
              "      <th>2021-11-16</th>\n",
              "      <td>2962.99</td>\n",
              "      <td>2975.25</td>\n",
              "      <td>2946.25</td>\n",
              "      <td>2957.52</td>\n",
              "      <td>945200</td>\n",
              "    </tr>\n",
              "    <tr>\n",
              "      <th>...</th>\n",
              "      <td>...</td>\n",
              "      <td>...</td>\n",
              "      <td>...</td>\n",
              "      <td>...</td>\n",
              "      <td>...</td>\n",
              "    </tr>\n",
              "    <tr>\n",
              "      <th>2016-12-01</th>\n",
              "      <td>778.55</td>\n",
              "      <td>778.60</td>\n",
              "      <td>753.36</td>\n",
              "      <td>764.33</td>\n",
              "      <td>2815292</td>\n",
              "    </tr>\n",
              "    <tr>\n",
              "      <th>2016-11-30</th>\n",
              "      <td>789.10</td>\n",
              "      <td>791.51</td>\n",
              "      <td>773.14</td>\n",
              "      <td>775.88</td>\n",
              "      <td>2156344</td>\n",
              "    </tr>\n",
              "    <tr>\n",
              "      <th>2016-11-29</th>\n",
              "      <td>788.38</td>\n",
              "      <td>796.44</td>\n",
              "      <td>785.34</td>\n",
              "      <td>789.44</td>\n",
              "      <td>1507400</td>\n",
              "    </tr>\n",
              "    <tr>\n",
              "      <th>2016-11-28</th>\n",
              "      <td>778.35</td>\n",
              "      <td>799.74</td>\n",
              "      <td>778.10</td>\n",
              "      <td>785.79</td>\n",
              "      <td>2370636</td>\n",
              "    </tr>\n",
              "    <tr>\n",
              "      <th>2016-11-25</th>\n",
              "      <td>782.61</td>\n",
              "      <td>782.90</td>\n",
              "      <td>778.19</td>\n",
              "      <td>780.15</td>\n",
              "      <td>539476</td>\n",
              "    </tr>\n",
              "  </tbody>\n",
              "</table>\n",
              "<p>1257 rows × 5 columns</p>\n",
              "</div>"
            ],
            "text/plain": [
              "            Otwarcie  Najwyzszy  Najnizszy  Zamkniecie  Wolumen\n",
              "Date                                                           \n",
              "2021-11-22   2986.65    2996.59    2922.95     2926.04  1531460\n",
              "2021-11-19   2999.51    3019.33    2977.98     2978.53  1684969\n",
              "2021-11-18   2964.83    3011.61    2957.69     2996.77  1781411\n",
              "2021-11-17   2960.55    2971.19    2944.80     2960.94   979975\n",
              "2021-11-16   2962.99    2975.25    2946.25     2957.52   945200\n",
              "...              ...        ...        ...         ...      ...\n",
              "2016-12-01    778.55     778.60     753.36      764.33  2815292\n",
              "2016-11-30    789.10     791.51     773.14      775.88  2156344\n",
              "2016-11-29    788.38     796.44     785.34      789.44  1507400\n",
              "2016-11-28    778.35     799.74     778.10      785.79  2370636\n",
              "2016-11-25    782.61     782.90     778.19      780.15   539476\n",
              "\n",
              "[1257 rows x 5 columns]"
            ]
          },
          "metadata": {},
          "execution_count": 58
        }
      ]
    },
    {
      "cell_type": "code",
      "metadata": {
        "id": "RWAo7NEHAyNI"
      },
      "source": [
        ""
      ],
      "execution_count": null,
      "outputs": []
    }
  ]
}